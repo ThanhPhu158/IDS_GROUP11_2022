{
 "cells": [
  {
   "cell_type": "code",
   "execution_count": 1,
   "id": "fbc841d2",
   "metadata": {},
   "outputs": [
    {
     "name": "stderr",
     "output_type": "stream",
     "text": [
      "[WDM] - Downloading: 100%|███████████████████████████████████████████████████████████████████████████████████████████████████████████████████████████| 8.61M/8.61M [00:10<00:00, 862kB/s]\n"
     ]
    }
   ],
   "source": [
    "from selenium import webdriver\n",
    "from selenium.webdriver.chrome.service import Service as ChromeService\n",
    "from webdriver_manager.chrome import ChromeDriverManager\n",
    "from selenium.webdriver.common.by import By\n",
    "from selenium.webdriver.support.wait import WebDriverWait\n",
    "from selenium.webdriver.support import expected_conditions as EC\n",
    "\n",
    "from selenium.webdriver.common.keys import Keys\n",
    "\n",
    "from selenium.webdriver.common.action_chains import ActionChains\n",
    "\n",
    "import time\n",
    "\n",
    "from bs4 import BeautifulSoup\n",
    "\n",
    "driver = webdriver.Chrome(service=ChromeService(ChromeDriverManager().install()))\n",
    "\n",
    "driver.get(\"https://itviec.com/sign_in\")\n",
    "\n",
    "driver.find_element(By.XPATH, \"//input[@id='user_email']\").send_keys(\"hieuvo8320@gmail.com\")\n",
    "driver.find_element(By.XPATH, \"//input[@id='user_password']\").send_keys(\"Aa@123456\")\n",
    "driver.find_element(By.XPATH, \"//button[@type='submit']\").click()"
   ]
  },
  {
   "cell_type": "code",
   "execution_count": null,
   "id": "9c2ce47a",
   "metadata": {},
   "outputs": [],
   "source": []
  },
  {
   "cell_type": "code",
   "execution_count": 2,
   "id": "048a9730",
   "metadata": {},
   "outputs": [],
   "source": [
    "def navigate_job_fresher():\n",
    "    select_level = driver.find_element(By.XPATH, \"//a[@class='btn btn-light dropdown-toggle']\")\n",
    "    driver.execute_script(\"arguments[0].click();\", select_level)\n",
    "\n",
    "#     select_level.click()\n",
    "    fresher_level = driver.find_element(By.XPATH, \"//input[@id='job_level_names_fresher']\")\n",
    "    driver.execute_script(\"arguments[0].click();\", fresher_level)\n",
    "\n",
    "    click_filter = driver.find_element(By.XPATH, \"//button[@class='btn btn-primary text-white']\")\n",
    "    driver.execute_script(\"arguments[0].click();\", click_filter)"
   ]
  },
  {
   "cell_type": "code",
   "execution_count": 3,
   "id": "eef729f2",
   "metadata": {},
   "outputs": [],
   "source": [
    "def navigate_job_junior():\n",
    "    select_level = driver.find_element(By.XPATH, \"//a[@class='btn btn-light dropdown-toggle']\")\n",
    "    driver.execute_script(\"arguments[0].click();\", select_level)\n",
    "\n",
    "    # delete filter fresher\n",
    "    delete_fresher = driver.find_element(By.XPATH, \"//input[@id='job_level_names_fresher']\")\n",
    "    driver.execute_script(\"arguments[0].click();\", delete_fresher)\n",
    "\n",
    "    # choose filter junior\n",
    "    junior_level = driver.find_element(By.XPATH, \"//input[@id='job_level_names_junior']\")\n",
    "    driver.execute_script(\"arguments[0].click();\", junior_level)\n",
    "\n",
    "    click_filter = driver.find_element(By.XPATH, \"//button[@class='btn btn-primary text-white']\")\n",
    "    driver.execute_script(\"arguments[0].click();\", click_filter)"
   ]
  },
  {
   "cell_type": "code",
   "execution_count": 4,
   "id": "f29c8e1d",
   "metadata": {},
   "outputs": [],
   "source": [
    "def navigate_job_senior():\n",
    "    select_level = driver.find_element(By.XPATH, \"//a[@class='btn btn-light dropdown-toggle']\")\n",
    "    driver.execute_script(\"arguments[0].click();\", select_level)\n",
    "    \n",
    "     # delete filer junior\n",
    "    delete_junior = driver.find_element(By.XPATH, \"//input[@id='job_level_names_junior']\")\n",
    "    driver.execute_script(\"arguments[0].click();\", delete_junior)\n",
    "\n",
    "    # choose filter senior\n",
    "    senior_level = driver.find_element(By.XPATH, \"//input[@id='job_level_names_senior']\")\n",
    "    driver.execute_script(\"arguments[0].click();\", senior_level)\n",
    "    \n",
    "    click_filter = driver.find_element(By.XPATH, \"//button[@class='btn btn-primary text-white']\")\n",
    "    driver.execute_script(\"arguments[0].click();\", click_filter)"
   ]
  },
  {
   "cell_type": "code",
   "execution_count": 5,
   "id": "af3d28a9",
   "metadata": {},
   "outputs": [],
   "source": [
    "def read_all_jd_by_level():\n",
    "    page_source = driver.page_source\n",
    "    soup = BeautifulSoup(page_source, 'html.parser')\n",
    "\n",
    "    # find all of items of this page\n",
    "    \n",
    "    ul = soup.find_all('ul', class_=\"pagination\")\n",
    "        \n",
    "    items = 2\n",
    "    \n",
    "    # pagination page\n",
    "    \n",
    "    if len(ul) > 0:\n",
    "        a = ul[0].find_all(\"a\")\n",
    "        items = int(a[-2].text)\n",
    "    \n",
    "    offer_and_skill_fresher = []\n",
    "\n",
    "    for i in range(items - 1):\n",
    "        job_java_fresher = soup.find_all('div', class_=\"job__description\")\n",
    "\n",
    "        for des in job_java_fresher:\n",
    "            offer_and_skill = {}\n",
    "\n",
    "            range_offer = des.find_all(\"div\", class_=\"svg-icon__text\")\n",
    "            offer_and_skill[\"offer\"] = range_offer[0].text\n",
    "\n",
    "            skills = des.find_all(\"a\", class_=\"job__skill ilabel mkt-track\")\n",
    "            offer_and_skill[\"skill\"] = [skill.text.replace(\"\\n\", \"\") for skill in skills ]\n",
    "\n",
    "            offer_and_skill_fresher.append(offer_and_skill)\n",
    "            \n",
    "        html = driver.find_element(By.TAG_NAME, 'html')\n",
    "        html.send_keys(Keys.END)\n",
    "        \n",
    "        time.sleep(2)\n",
    "        \n",
    "        # click net page if page has more than 2 pages\n",
    "        if len(ul) > 0:\n",
    "            time.sleep(2)\n",
    "            next_page = driver.find_element(By.XPATH, \"//a[@rel='next']\")\n",
    "            next_page.click()\n",
    "        \n",
    "        time.sleep(2)\n",
    "        \n",
    "        page_source = driver.page_source\n",
    "        soup = BeautifulSoup(page_source, 'html.parser')\n",
    "\n",
    "                                          \n",
    "    return offer_and_skill_fresher"
   ]
  },
  {
   "cell_type": "code",
   "execution_count": 6,
   "id": "037dd1d2",
   "metadata": {},
   "outputs": [],
   "source": [
    "def find_all_jd(url):\n",
    "    # navagite page via url\n",
    "    driver.get(url)\n",
    "    time.sleep(2)\n",
    "    \n",
    "    # init\n",
    "    jds = []\n",
    "    \n",
    "    # navigate level fresher\n",
    "    navigate_job_fresher()\n",
    "    time.sleep(2)  # sleep for 2 seconds for fullfill page loaded\n",
    "    \n",
    "    jds_fresher =  read_all_jd_by_level()\n",
    "    jds_fresher.append({\"level\": \"fresher\"})\n",
    "    jds.append(jds_fresher)\n",
    "    \n",
    "    # navigate level junior\n",
    "    navigate_job_junior()\n",
    "    time.sleep(2)  # sleep for 5 seconds for fullfill page loaded\n",
    "    \n",
    "    jds_junior = read_all_jd_by_level()\n",
    "    jds_junior.append({\"level\": \"junior\"})\n",
    "    jds.append(jds_junior)\n",
    "    \n",
    "    # nagigate level senior\n",
    "    navigate_job_senior()\n",
    "    time.sleep(2)  # sleep for 5 seconds for fullfill page loaded\n",
    "    \n",
    "    jds_senior = read_all_jd_by_level()\n",
    "    jds_senior.append({\"level\": \"senior\"})\n",
    "    jds.append(jds_senior)\n",
    "    \n",
    "    return jds\n"
   ]
  },
  {
   "cell_type": "code",
   "execution_count": 180,
   "id": "d7e61bdc",
   "metadata": {},
   "outputs": [],
   "source": [
    "java_job_url = \"https://itviec.com/it-jobs/java?utm_campaign=gsn_brand_hcm&utm_medium=cpc&utm_source=google&utm_term=itviec&job_selected=software-engineer-java-net-aureole-information-technology-ait-5620\"\n",
    "java_jds = find_all_jd(java_job_url)"
   ]
  },
  {
   "cell_type": "code",
   "execution_count": 216,
   "id": "2294acee",
   "metadata": {},
   "outputs": [],
   "source": [
    "nodejs_job_url = \"https://itviec.com/it-jobs/nodejs?utm_campaign=gsn_brand_hcm&utm_medium=cpc&utm_source=google&utm_term=itviec&job_selected=web-developer-ruby-on-rails-php-nodejs-motorist-pte-ltd-2941\"\n",
    "node_jds = find_all_jd(nodejs_job_url)"
   ]
  },
  {
   "cell_type": "code",
   "execution_count": 221,
   "id": "d29f3b1e",
   "metadata": {},
   "outputs": [],
   "source": [
    "reactjs_job_url = \"https://itviec.com/it-jobs/reactjs?utm_campaign=gsn_brand_hcm&utm_medium=cpc&utm_source=google&utm_term=itviec&job_selected=mid-sr-reactjs-nextjs-developer-techvsi-3820\"\n",
    "react_jds = find_all_jd(reactjs_job_url)"
   ]
  },
  {
   "cell_type": "code",
   "execution_count": 223,
   "id": "356f39d4",
   "metadata": {},
   "outputs": [],
   "source": [
    "ruby_on_rails_url = \"https://itviec.com/it-jobs/ruby-on-rails?utm_campaign=gsn_brand_hcm&utm_medium=cpc&utm_source=google&utm_term=itviec&job_selected=backend-developer-ruby-on-rails-mysql-motorist-pte-ltd-4357\"\n",
    "ruby_jds = find_all_jd(ruby_on_rails_url)"
   ]
  },
  {
   "cell_type": "code",
   "execution_count": 231,
   "id": "1e8cf1e2",
   "metadata": {},
   "outputs": [],
   "source": [
    "ios_url = \"https://itviec.com/it-jobs/ios?utm_campaign=gsn_brand_hcm&utm_medium=cpc&utm_source=google&utm_term=itviec&job_selected=ios-developer-objective-c-swift-up-to-1500-viettel-group-3209\"\n",
    "ios_jds = find_all_jd(ios_url)"
   ]
  },
  {
   "cell_type": "code",
   "execution_count": 236,
   "id": "d62fd874",
   "metadata": {},
   "outputs": [],
   "source": [
    "android_url = \"https://itviec.com/it-jobs/android?utm_campaign=gsn_brand_hcm&utm_medium=cpc&utm_source=google&utm_term=itviec&job_selected=mobile-developer-android-ios-motorist-pte-ltd-3231\"\n",
    "android_jds = find_all_jd(android_url)"
   ]
  },
  {
   "cell_type": "code",
   "execution_count": 238,
   "id": "70edf6d2",
   "metadata": {},
   "outputs": [],
   "source": [
    "php_url = \"https://itviec.com/it-jobs/php?utm_campaign=gsn_brand_hcm&utm_medium=cpc&utm_source=google&utm_term=itviec&job_selected=senior-reactjs-developer-angular-aglie-vpbank-2832\"\n",
    "php_jds = find_all_jd(php_url)"
   ]
  },
  {
   "cell_type": "code",
   "execution_count": 240,
   "id": "00ff2fd8",
   "metadata": {},
   "outputs": [],
   "source": [
    "python_url = \"https://itviec.com/it-jobs/python?utm_campaign=gsn_brand_hcm&utm_medium=cpc&utm_source=google&utm_term=itviec&job_selected=fullstack-developer-golang-python-reactjs-viettel-group-3810\"\n",
    "python_jds = find_all_jd(python_url)"
   ]
  },
  {
   "cell_type": "code",
   "execution_count": 7,
   "id": "fb6eb0e8",
   "metadata": {},
   "outputs": [],
   "source": [
    "c_url = \"https://itviec.com/it-jobs/c++?utm_campaign=gsn_brand_hcm&utm_medium=cpc&utm_source=google&utm_term=itviec&job_selected=embedded-software-engineer-terralogic-5830\"\n",
    "c_jds = find_all_jd(c_url)"
   ]
  },
  {
   "cell_type": "code",
   "execution_count": 245,
   "id": "c6ed9c50",
   "metadata": {},
   "outputs": [],
   "source": [
    "golang_url = \"https://itviec.com/it-jobs/golang?utm_campaign=gsn_brand_hcm&utm_medium=cpc&utm_source=google&utm_term=itviec&job_selected=fullstack-developer-golang-python-reactjs-viettel-group-3810\"\n",
    "golang_jds = find_all_jd(golang_url)"
   ]
  },
  {
   "cell_type": "code",
   "execution_count": 247,
   "id": "1ac925f1",
   "metadata": {},
   "outputs": [],
   "source": [
    "angular_url = \"https://itviec.com/it-jobs/angular?utm_campaign=gsn_brand_hcm&utm_medium=cpc&utm_source=google&utm_term=itviec&job_selected=senior-developer-angular-javascript-typescript-athenapros-5317\"\n",
    "angular_jds = find_all_jd(angular_url)\n"
   ]
  },
  {
   "cell_type": "code",
   "execution_count": 249,
   "id": "03bdf374",
   "metadata": {},
   "outputs": [],
   "source": [
    "vue_url = \"https://itviec.com/it-jobs/vuejs?utm_campaign=gsn_brand_hcm&utm_medium=cpc&utm_source=google&utm_term=itviec&job_selected=lap-trinh-vien-reactjs-vuejs-java-co-the-di-lam-sau-tet-trung-tam-cong-nghe-thong-tin-mobifone-4744\"\n",
    "vue_jds = find_all_jd(vue_url)\n"
   ]
  },
  {
   "cell_type": "code",
   "execution_count": 252,
   "id": "101e3f25",
   "metadata": {},
   "outputs": [
    {
     "data": {
      "text/plain": [
       "[[{'offer': \"You'll love it\", 'skill': ['Java', 'ReactJS', 'VueJS']},\n",
       "  {'offer': '500 - 1,200 USD',\n",
       "   'skill': ['JavaScript', 'React Native', 'VueJS']},\n",
       "  {'offer': '500 - 3,000 USD',\n",
       "   'skill': ['PHP', 'Laravel', 'VueJS', 'Fresher Accepted']},\n",
       "  {'offer': '500 - 1,500 USD', 'skill': ['Xamarin', 'C#', 'VueJS']},\n",
       "  {'offer': '1,500 - 2,500 USD',\n",
       "   'skill': ['PHP', 'Golang', 'VueJS', 'Fresher Accepted']},\n",
       "  {'offer': \"You'll love it\",\n",
       "   'skill': ['VueJS', 'AngularJS', 'ReactJS', 'Fresher Accepted']},\n",
       "  {'offer': '1,000 - 1,500 USD',\n",
       "   'skill': ['Python', 'Django', 'VueJS', 'Fresher Accepted']},\n",
       "  {'level': 'fresher'}],\n",
       " [{'offer': \"You'll love it\", 'skill': ['Java', 'ReactJS', 'VueJS']},\n",
       "  {'offer': '1,000 - 3,500 USD', 'skill': ['VueJS', 'JavaScript', 'ReactJS']},\n",
       "  {'offer': \"You'll love it\", 'skill': ['ReactJS', 'JavaScript', 'VueJS']},\n",
       "  {'offer': '1,500 - 4,000 USD', 'skill': ['NodeJS', 'ReactJS', 'VueJS']},\n",
       "  {'offer': '500 - 1,200 USD',\n",
       "   'skill': ['JavaScript', 'React Native', 'VueJS']},\n",
       "  {'offer': '1,500 - 3,000 USD', 'skill': ['TypeScript', 'AWS', 'VueJS']},\n",
       "  {'offer': \"You'll love it\", 'skill': ['PHP', 'PostgreSql', 'VueJS']},\n",
       "  {'offer': '500 - 3,000 USD',\n",
       "   'skill': ['PHP', 'Laravel', 'VueJS', 'Fresher Accepted']},\n",
       "  {'offer': 'Up to $1400', 'skill': ['VueJS', 'HTML5', 'JavaScript']},\n",
       "  {'offer': \"You'll love it\", 'skill': ['ReactJS', 'Angular', 'VueJS']},\n",
       "  {'offer': '500 - 1,500 USD', 'skill': ['Xamarin', 'C#', 'VueJS']},\n",
       "  {'offer': '700 - 2,200 USD', 'skill': ['JavaScript', 'NodeJS', 'VueJS']},\n",
       "  {'offer': \"You'll love it\", 'skill': ['Java', 'ReactJS', 'VueJS']},\n",
       "  {'offer': \"You'll love it\", 'skill': ['JavaScript', 'ReactJS', 'VueJS']},\n",
       "  {'offer': \"You'll love it\", 'skill': ['NodeJS', 'VueJS']},\n",
       "  {'offer': '1,500 - 2,500 USD',\n",
       "   'skill': ['PHP', 'Golang', 'VueJS', 'Fresher Accepted']},\n",
       "  {'offer': \"You'll love it\",\n",
       "   'skill': ['VueJS', 'AngularJS', 'ReactJS', 'Fresher Accepted']},\n",
       "  {'offer': \"You'll love it\", 'skill': ['Java', 'Spring', 'VueJS']},\n",
       "  {'offer': '1,000 - 1,500 USD',\n",
       "   'skill': ['Python', 'Django', 'VueJS', 'Fresher Accepted']},\n",
       "  {'offer': '500 - 1,000 USD', 'skill': ['NodeJS', 'JavaScript', 'VueJS']},\n",
       "  {'level': 'junior'}],\n",
       " [{'offer': '1,500 - 3,000 USD', 'skill': ['VueJS', 'HTML5', 'JavaScript']},\n",
       "  {'offer': '1,000 - 3,500 USD', 'skill': ['VueJS', 'JavaScript', 'ReactJS']},\n",
       "  {'offer': \"You'll love it\", 'skill': ['ReactJS', 'JavaScript', 'VueJS']},\n",
       "  {'offer': \"You'll love it\", 'skill': ['ReactJS', 'Team Leader', 'VueJS']},\n",
       "  {'offer': '1,500 - 4,000 USD', 'skill': ['NodeJS', 'ReactJS', 'VueJS']},\n",
       "  {'offer': '500 - 1,200 USD',\n",
       "   'skill': ['JavaScript', 'React Native', 'VueJS']},\n",
       "  {'offer': '2,200 - 2,600 USD', 'skill': ['VueJS', 'JavaScript', 'ReactJS']},\n",
       "  {'offer': \"You'll love it\", 'skill': ['ReactJS', 'AngularJS', 'VueJS']},\n",
       "  {'offer': '1,500 - 3,000 USD', 'skill': ['TypeScript', 'AWS', 'VueJS']},\n",
       "  {'offer': \"You'll love it\", 'skill': ['VueJS', 'HTML5', 'JavaScript']},\n",
       "  {'offer': '500 - 3,000 USD',\n",
       "   'skill': ['PHP', 'Laravel', 'VueJS', 'Fresher Accepted']},\n",
       "  {'offer': 'Up to $1400', 'skill': ['VueJS', 'HTML5', 'JavaScript']},\n",
       "  {'offer': \"You'll love it\", 'skill': ['ReactJS', 'Angular', 'VueJS']},\n",
       "  {'offer': '500 - 1,500 USD', 'skill': ['Xamarin', 'C#', 'VueJS']},\n",
       "  {'offer': 'Upto $1800', 'skill': ['JavaScript', 'ReactJS', 'VueJS']},\n",
       "  {'offer': \"You'll love it\", 'skill': ['VueJS', 'JavaScript', 'ReactJS']},\n",
       "  {'offer': '700 - 2,200 USD', 'skill': ['JavaScript', 'NodeJS', 'VueJS']},\n",
       "  {'offer': \"You'll love it\", 'skill': ['JavaScript', 'ReactJS', 'VueJS']},\n",
       "  {'offer': \"You'll love it\", 'skill': ['NodeJS', 'VueJS']},\n",
       "  {'offer': '1,500 - 2,500 USD',\n",
       "   'skill': ['PHP', 'Golang', 'VueJS', 'Fresher Accepted']},\n",
       "  {'level': 'senior'}]]"
      ]
     },
     "execution_count": 252,
     "metadata": {},
     "output_type": "execute_result"
    }
   ],
   "source": [
    "vue_jds"
   ]
  },
  {
   "cell_type": "code",
   "execution_count": null,
   "id": "bd244e22",
   "metadata": {},
   "outputs": [],
   "source": []
  },
  {
   "cell_type": "code",
   "execution_count": 154,
   "id": "38e5760f",
   "metadata": {},
   "outputs": [],
   "source": [
    "import re\n",
    "\n",
    "def proccessing(jds):\n",
    "    result = []\n",
    "    \n",
    "    for i in range(len(jds) - 1):\n",
    "        result.append({\"salary\": jds[i][\"offer\"]})\n",
    "        \n",
    "    return result"
   ]
  },
  {
   "cell_type": "code",
   "execution_count": 189,
   "id": "38b8494c",
   "metadata": {},
   "outputs": [],
   "source": [
    "offer_fresher_java = proccessing(java_jds[0])\n",
    "offer_junior_java = proccessing(java_jds[1])\n",
    "offer_senior_java = proccessing(java_jds[2])"
   ]
  },
  {
   "cell_type": "code",
   "execution_count": 156,
   "id": "619076d8",
   "metadata": {},
   "outputs": [],
   "source": [
    "offer_fresher_nodejs = proccessing(node_jds[0])\n",
    "offer_junior_nodejs = proccessing(node_jds[1])\n",
    "offer_senior_nodejs = proccessing(node_jds[2])"
   ]
  },
  {
   "cell_type": "code",
   "execution_count": 157,
   "id": "e48f1672",
   "metadata": {},
   "outputs": [],
   "source": [
    "offer_fresher_reactjs = proccessing(react_jds[0])\n",
    "offer_junior_reactjs = proccessing(react_jds[1])\n",
    "offer_senior_reactjs = proccessing(react_jds[2])"
   ]
  },
  {
   "cell_type": "code",
   "execution_count": 158,
   "id": "db7dcc83",
   "metadata": {},
   "outputs": [],
   "source": [
    "offer_fresher_ruby = proccessing(ruby_jds[0])\n",
    "offer_junior_ruby = proccessing(ruby_jds[1])\n",
    "offer_senior_ruby = proccessing(ruby_jds[2])"
   ]
  },
  {
   "cell_type": "code",
   "execution_count": 159,
   "id": "e378c37f",
   "metadata": {},
   "outputs": [],
   "source": [
    "offer_fresher_android = proccessing(android_jds[0])\n",
    "offer_junior_android = proccessing(android_jds[1])\n",
    "offer_senior_android = proccessing(android_jds[2])"
   ]
  },
  {
   "cell_type": "code",
   "execution_count": 160,
   "id": "ad2689ed",
   "metadata": {},
   "outputs": [],
   "source": [
    "offer_fresher_php = proccessing(php_jds[0])\n",
    "offer_junior_php = proccessing(php_jds[1])\n",
    "offer_senior_php = proccessing(php_jds[2])"
   ]
  },
  {
   "cell_type": "code",
   "execution_count": 161,
   "id": "141512b4",
   "metadata": {},
   "outputs": [],
   "source": [
    "offer_fresher_ios = proccessing(ios_jds[0])\n",
    "offer_junior_ios = proccessing(ios_jds[1])\n",
    "offer_senior_ios = proccessing(ios_jds[2])"
   ]
  },
  {
   "cell_type": "code",
   "execution_count": 165,
   "id": "bc9d9755",
   "metadata": {},
   "outputs": [
    {
     "data": {
      "text/plain": [
       "[{'salary': 'Up to 1500$'},\n",
       " {'salary': \"You'll love it\"},\n",
       " {'salary': \"You'll love it\"},\n",
       " {'salary': '1,200 - 2,000 USD'},\n",
       " {'salary': 'Very competitive salary!'},\n",
       " {'salary': '1,000 - 2,000 USD'},\n",
       " {'salary': 'Up to $2000'},\n",
       " {'salary': 'Up to 3500$'},\n",
       " {'salary': \"You'll love it\"},\n",
       " {'salary': \"You'll love it\"},\n",
       " {'salary': '1,200 - 2,000 USD'},\n",
       " {'salary': \"You'll love it\"},\n",
       " {'salary': '2,000 - 4,000 USD'},\n",
       " {'salary': 'Negoti'},\n",
       " {'salary': \"You'll love it\"},\n",
       " {'salary': '500 - 1,800 USD'},\n",
       " {'salary': \"You'll love it\"},\n",
       " {'salary': \"You'll love it\"},\n",
       " {'salary': \"You'll love it\"},\n",
       " {'salary': \"You'll love it\"}]"
      ]
     },
     "execution_count": 165,
     "metadata": {},
     "output_type": "execute_result"
    }
   ],
   "source": [
    "offer_senior_ios"
   ]
  },
  {
   "cell_type": "code",
   "execution_count": 21,
   "id": "9962524d",
   "metadata": {},
   "outputs": [],
   "source": [
    "def remove_duplicate(data):\n",
    "    result = []\n",
    "    for i in data:\n",
    "        if i not in result:\n",
    "            result.append(i)\n",
    "            \n",
    "    return result"
   ]
  },
  {
   "cell_type": "code",
   "execution_count": 172,
   "id": "9be840a8",
   "metadata": {},
   "outputs": [],
   "source": [
    "import csv\n",
    "\n",
    "\n",
    "header = ['java', 'nodejs', 'reactjs', 'ruby', 'android', 'ios', 'php', 'python', 'c++', 'golang', 'angular',\n",
    "          'vue', 'level', 'salary']\n",
    "\n",
    "with open('salary.csv', 'w', encoding='UTF8') as f:\n",
    "    writer = csv.writer(f)\n",
    "\n",
    "    # write the header\n",
    "    \n",
    "    writer.writerow(header)\n",
    "\n",
    "    # write the java jds\n",
    "    \n",
    "    write_jds_to_csv(0, offer_fresher_java, \"fresher\", writer)\n",
    "    write_jds_to_csv(0, offer_junior_java, \"junior\", writer)\n",
    "    write_jds_to_csv(0, offer_senior_java, \"senior\", writer)\n",
    "    \n",
    "    #write the nodejs jds\n",
    "\n",
    "    write_jds_to_csv(1, offer_fresher_nodejs, \"fresher\", writer)\n",
    "    write_jds_to_csv(1, offer_junior_nodejs, \"junior\", writer)\n",
    "    write_jds_to_csv(1, offer_senior_nodejs, \"senior\", writer)\n",
    "    \n",
    "    # reactjs\n",
    "    \n",
    "    write_jds_to_csv(2, offer_fresher_reactjs, \"fresher\", writer)\n",
    "    write_jds_to_csv(2, offer_junior_reactjs, \"junior\", writer)\n",
    "    write_jds_to_csv(2, offer_senior_reactjs, \"senior\", writer)\n",
    "\n",
    "    # ruby\n",
    "    \n",
    "    write_jds_to_csv(3, offer_fresher_ruby, \"fresher\", writer)\n",
    "    write_jds_to_csv(3, offer_junior_ruby, \"junior\", writer)\n",
    "    write_jds_to_csv(3, offer_senior_ruby, \"senior\", writer)\n",
    "    \n",
    "    # android\n",
    "    \n",
    "    write_jds_to_csv(4, offer_fresher_android, \"fresher\", writer)\n",
    "    write_jds_to_csv(4, offer_junior_android, \"junior\", writer)\n",
    "    write_jds_to_csv(4, offer_senior_android, \"senior\", writer)\n",
    "    \n",
    "    # ios\n",
    "    \n",
    "    write_jds_to_csv(5, offer_fresher_ios, \"fresher\", writer)\n",
    "    write_jds_to_csv(5, offer_junior_ios, \"junior\", writer)\n",
    "    write_jds_to_csv(5, offer_senior_ios, \"senior\", writer)    \n",
    "    \n",
    "    # php\n",
    "    \n",
    "    write_jds_to_csv(6, offer_fresher_php, \"fresher\", writer)\n",
    "    write_jds_to_csv(6, offer_junior_php, \"junior\", writer)\n",
    "    write_jds_to_csv(6, offer_senior_php, \"senior\", writer)\n",
    "    \n",
    "    # pyhon\n",
    "    \n",
    "    write_jds_to_csv(7, proccessing(python_jds[0]), \"fresher\", writer)\n",
    "    write_jds_to_csv(7, proccessing(python_jds[1]), \"junior\", writer)\n",
    "    write_jds_to_csv(7, proccessing(python_jds[2]), \"senior\", writer)\n",
    "    \n",
    "    # c++\n",
    "    write_jds_to_csv(8, proccessing(c_jds[0]), \"fresher\", writer)\n",
    "    write_jds_to_csv(8, proccessing(c_jds[1]), \"junior\", writer)\n",
    "    write_jds_to_csv(8, proccessing(c_jds[2]), \"senior\", writer)\n",
    "    \n",
    "    # golang\n",
    "    write_jds_to_csv(9, proccessing(golang_jds[0]), \"fresher\", writer)\n",
    "    write_jds_to_csv(9, proccessing(golang_jds[1]), \"junior\", writer)\n",
    "    write_jds_to_csv(9, proccessing(golang_jds[2]), \"senior\", writer)\n",
    "    \n",
    "    # angular\n",
    "    write_jds_to_csv(10, proccessing(angular_jds[0]), \"fresher\", writer)\n",
    "    write_jds_to_csv(10, proccessing(angular_jds[1]), \"junior\", writer)\n",
    "    write_jds_to_csv(10, proccessing(angular_jds[2]), \"senior\", writer)\n",
    "    \n",
    "    # vue\n",
    "    \n",
    "    write_jds_to_csv(11, proccessing(vue_jds[0]), \"fresher\", writer)\n",
    "    write_jds_to_csv(11, proccessing(vue_jds[1]), \"junior\", writer)\n",
    "    write_jds_to_csv(11, proccessing(vue_jds[2]), \"senior\", writer)\n",
    "    "
   ]
  },
  {
   "cell_type": "code",
   "execution_count": 254,
   "id": "7410f553",
   "metadata": {},
   "outputs": [],
   "source": [
    "def write_jds_to_csv(job_jds, writer):\n",
    "    list_skills = ['java', 'nodejs', 'reactjs', 'ruby', 'android', 'ios', 'php', 'python', 'c++', 'golang', 'angular']\n",
    "    # 14 header in csv file\n",
    "    \n",
    "    for job_by_level in job_jds:\n",
    "        job_by_level_len = len(job_by_level)\n",
    "        \n",
    "        for i in range(job_by_level_len - 1):\n",
    "            salary_with_skills = [0] * 13\n",
    "\n",
    "            # calculate offer \n",
    "            salary_with_skills[12] = job_by_level[i][\"offer\"]\n",
    "            \n",
    "            # calculate the skill\n",
    "            \n",
    "            for skill in job_by_level[i][\"skill\"]:\n",
    "                skill_lower_case = skill.lower()\n",
    "                if skill_lower_case in list_skills:\n",
    "                    salary_with_skills[list_skills.index(skill_lower_case)] = 1\n",
    "                    \n",
    "            # calculate level\n",
    "                salary_with_skills[11] = job_by_level[job_by_level_len - 1][\"level\"]\n",
    "                \n",
    "            writer.writerow(salary_with_skills)\n",
    "        \n",
    "            \n",
    "            "
   ]
  },
  {
   "cell_type": "code",
   "execution_count": 256,
   "id": "e50173f4",
   "metadata": {},
   "outputs": [],
   "source": [
    "import csv\n",
    "\n",
    "\n",
    "header = ['java', 'nodejs', 'reactjs', 'ruby', 'android', 'ios', 'php', 'python', 'c++', 'golang', 'angular', 'level', 'salary']\n",
    "\n",
    "with open('salary.csv', 'w', encoding='UTF8') as f:\n",
    "    writer = csv.writer(f)\n",
    "\n",
    "    # write the header\n",
    "    \n",
    "    writer.writerow(header)\n",
    "\n",
    "    # write the java jds\n",
    "    \n",
    "    write_jds_to_csv(java_jds, writer)\n",
    "    write_jds_to_csv(node_jds, writer)\n",
    "    write_jds_to_csv(react_jds, writer)\n",
    "    write_jds_to_csv(ruby_jds, writer)\n",
    "    write_jds_to_csv(ios_jds, writer)\n",
    "    write_jds_to_csv(android_jds, writer)\n",
    "    write_jds_to_csv(php_jds, writer)\n",
    "    write_jds_to_csv(python_jds, writer)\n",
    "    write_jds_to_csv(c_jds, writer)\n",
    "    write_jds_to_csv(golang_jds, writer)\n",
    "    write_jds_to_csv(angular_jds, writer)\n",
    "    "
   ]
  },
  {
   "cell_type": "code",
   "execution_count": null,
   "id": "23ba40d9",
   "metadata": {},
   "outputs": [],
   "source": []
  }
 ],
 "metadata": {
  "kernelspec": {
   "display_name": "Python 3 (ipykernel)",
   "language": "python",
   "name": "python3"
  },
  "language_info": {
   "codemirror_mode": {
    "name": "ipython",
    "version": 3
   },
   "file_extension": ".py",
   "mimetype": "text/x-python",
   "name": "python",
   "nbconvert_exporter": "python",
   "pygments_lexer": "ipython3",
   "version": "3.10.8"
  }
 },
 "nbformat": 4,
 "nbformat_minor": 5
}
