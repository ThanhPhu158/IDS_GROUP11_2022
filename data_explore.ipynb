{
 "cells": [
  {
   "cell_type": "markdown",
   "id": "587e6ff7",
   "metadata": {},
   "source": [
    "## Import the necessary libraries "
   ]
  },
  {
   "cell_type": "code",
   "execution_count": null,
   "id": "c39fc2b4",
   "metadata": {},
   "outputs": [],
   "source": [
    "import numpy as np\n",
    "import pandas as pd\n",
    "import matplotlib.pyplot as plt\n",
    "import seaborn as sns\n",
    "from sklearn.model_selection import train_test_split \n",
    "from sklearn.preprocessing import StandardScaler , MinMaxScaler\n",
    "from sklearn.linear_model import LinearRegression\n",
    "from sklearn.metrics import r2_score , mean_squared_error"
   ]
  },
  {
   "cell_type": "markdown",
   "id": "b6a47e4c",
   "metadata": {},
   "source": [
    "## 1. Data explorations"
   ]
  },
  {
   "cell_type": "markdown",
   "id": "a4454e26",
   "metadata": {},
   "source": [
    "### Read data from csv file into Pandas dataframe"
   ]
  },
  {
   "cell_type": "code",
   "execution_count": null,
   "id": "d190ddb3",
   "metadata": {},
   "outputs": [],
   "source": [
    "df_job_raw = pd.read_csv('salary.csv')"
   ]
  },
  {
   "cell_type": "markdown",
   "id": "8bb7f502",
   "metadata": {},
   "source": [
    "### How many rows (observations) and columns (attributes) does the data have? "
   ]
  },
  {
   "cell_type": "code",
   "execution_count": null,
   "id": "8a5eea57",
   "metadata": {},
   "outputs": [
    {
     "data": {
      "text/plain": [
       "(1200, 13)"
      ]
     },
     "execution_count": 3,
     "metadata": {},
     "output_type": "execute_result"
    }
   ],
   "source": [
    "num_rows, num_cols = df_job_raw.shape\n",
    "num_rows, num_cols"
   ]
  },
  {
   "cell_type": "markdown",
   "id": "3f8592f0",
   "metadata": {},
   "source": [
    "### What do the columns in the data mean?"
   ]
  },
  {
   "cell_type": "code",
   "execution_count": null,
   "id": "a0b7de51",
   "metadata": {},
   "outputs": [
    {
     "data": {
      "text/html": [
       "<div>\n",
       "<style scoped>\n",
       "    .dataframe tbody tr th:only-of-type {\n",
       "        vertical-align: middle;\n",
       "    }\n",
       "\n",
       "    .dataframe tbody tr th {\n",
       "        vertical-align: top;\n",
       "    }\n",
       "\n",
       "    .dataframe thead th {\n",
       "        text-align: right;\n",
       "    }\n",
       "</style>\n",
       "<table border=\"1\" class=\"dataframe\">\n",
       "  <thead>\n",
       "    <tr style=\"text-align: right;\">\n",
       "      <th></th>\n",
       "      <th>java</th>\n",
       "      <th>nodejs</th>\n",
       "      <th>reactjs</th>\n",
       "      <th>ruby</th>\n",
       "      <th>android</th>\n",
       "      <th>ios</th>\n",
       "      <th>php</th>\n",
       "      <th>python</th>\n",
       "      <th>c++</th>\n",
       "      <th>golang</th>\n",
       "      <th>angular</th>\n",
       "      <th>level</th>\n",
       "      <th>salary</th>\n",
       "    </tr>\n",
       "  </thead>\n",
       "  <tbody>\n",
       "    <tr>\n",
       "      <th>0</th>\n",
       "      <td>1</td>\n",
       "      <td>0</td>\n",
       "      <td>0</td>\n",
       "      <td>0</td>\n",
       "      <td>0</td>\n",
       "      <td>0</td>\n",
       "      <td>0</td>\n",
       "      <td>0</td>\n",
       "      <td>0</td>\n",
       "      <td>0</td>\n",
       "      <td>0</td>\n",
       "      <td>fresher</td>\n",
       "      <td>1,000 - 2,000 USD</td>\n",
       "    </tr>\n",
       "    <tr>\n",
       "      <th>1</th>\n",
       "      <td>1</td>\n",
       "      <td>0</td>\n",
       "      <td>1</td>\n",
       "      <td>0</td>\n",
       "      <td>0</td>\n",
       "      <td>0</td>\n",
       "      <td>0</td>\n",
       "      <td>0</td>\n",
       "      <td>0</td>\n",
       "      <td>0</td>\n",
       "      <td>0</td>\n",
       "      <td>fresher</td>\n",
       "      <td>You'll love it</td>\n",
       "    </tr>\n",
       "    <tr>\n",
       "      <th>2</th>\n",
       "      <td>1</td>\n",
       "      <td>0</td>\n",
       "      <td>0</td>\n",
       "      <td>0</td>\n",
       "      <td>0</td>\n",
       "      <td>0</td>\n",
       "      <td>0</td>\n",
       "      <td>1</td>\n",
       "      <td>0</td>\n",
       "      <td>0</td>\n",
       "      <td>0</td>\n",
       "      <td>fresher</td>\n",
       "      <td>You'll love it</td>\n",
       "    </tr>\n",
       "    <tr>\n",
       "      <th>3</th>\n",
       "      <td>1</td>\n",
       "      <td>0</td>\n",
       "      <td>0</td>\n",
       "      <td>0</td>\n",
       "      <td>0</td>\n",
       "      <td>0</td>\n",
       "      <td>0</td>\n",
       "      <td>0</td>\n",
       "      <td>0</td>\n",
       "      <td>0</td>\n",
       "      <td>0</td>\n",
       "      <td>fresher</td>\n",
       "      <td>1,000 - 2,500 USD</td>\n",
       "    </tr>\n",
       "    <tr>\n",
       "      <th>4</th>\n",
       "      <td>1</td>\n",
       "      <td>0</td>\n",
       "      <td>0</td>\n",
       "      <td>0</td>\n",
       "      <td>1</td>\n",
       "      <td>0</td>\n",
       "      <td>0</td>\n",
       "      <td>0</td>\n",
       "      <td>0</td>\n",
       "      <td>0</td>\n",
       "      <td>0</td>\n",
       "      <td>fresher</td>\n",
       "      <td>Up to 2.000 $</td>\n",
       "    </tr>\n",
       "  </tbody>\n",
       "</table>\n",
       "</div>"
      ],
      "text/plain": [
       "   java  nodejs  reactjs  ruby  android  ios  php  python  c++  golang  \\\n",
       "0     1       0        0     0        0    0    0       0    0       0   \n",
       "1     1       0        1     0        0    0    0       0    0       0   \n",
       "2     1       0        0     0        0    0    0       1    0       0   \n",
       "3     1       0        0     0        0    0    0       0    0       0   \n",
       "4     1       0        0     0        1    0    0       0    0       0   \n",
       "\n",
       "   angular    level             salary  \n",
       "0        0  fresher  1,000 - 2,000 USD  \n",
       "1        0  fresher     You'll love it  \n",
       "2        0  fresher     You'll love it  \n",
       "3        0  fresher  1,000 - 2,500 USD  \n",
       "4        0  fresher      Up to 2.000 $  "
      ]
     },
     "execution_count": 4,
     "metadata": {},
     "output_type": "execute_result"
    }
   ],
   "source": [
    "df_job_raw.head()"
   ]
  },
  {
   "cell_type": "code",
   "execution_count": null,
   "id": "26e340ca",
   "metadata": {},
   "outputs": [
    {
     "data": {
      "text/plain": [
       "Index(['java', 'nodejs', 'reactjs', 'ruby', 'android', 'ios', 'php', 'python',\n",
       "       'c++', 'golang', 'angular', 'level', 'salary'],\n",
       "      dtype='object')"
      ]
     },
     "execution_count": 5,
     "metadata": {},
     "output_type": "execute_result"
    }
   ],
   "source": [
    "columns = df_job_raw.columns\n",
    "columns"
   ]
  },
  {
   "cell_type": "markdown",
   "id": "e7c7b09a",
   "metadata": {},
   "source": [
    "*With 11 columns : java, nodejs ... angular: 1 as in this job have this skill, 0 as in this job dont have this skill*  \n",
    "* **java**: one of skills (programming langues or the enviroment to devolop) we have in dataset\n",
    "* **nodejs**:  one of skills (programming langues or the enviroment to devolop) we have in dataset\n",
    "* **reactjs**: one of skills (programming langues or the enviroment to devolop) we have in dataset \n",
    "* **ruby**:  one of skills (programming langues or the enviroment to devolop) we have in dataset\n",
    "* **android**:  one of skills (programming langues or the enviroment to devolop) we have in dataset\n",
    "* **ios**: one of skills (programming langues or the enviroment to devolop) we have in dataset\n",
    "* **php**:  one of skills (programming langues or the enviroment to devolop) we have in dataset\n",
    "* **python**: one of skills (programming langues or the enviroment to devolop) we have in dataset\n",
    "* **c++**: one of skills (programming langues or the enviroment to devolop) we have in dataset\n",
    "* **golang**: one of skills (programming langues or the enviroment to devolop) we have in dataset\n",
    "* **angular**: one of skills (programming langues or the enviroment to devolop) we have in dataset\n",
    "* **level**: this is experience of IT job\n",
    "* **salary**: this is the salary offer of an IT job "
   ]
  },
  {
   "cell_type": "markdown",
   "id": "7e8facea",
   "metadata": {},
   "source": [
    "### Are there any duplicate rows in the data?"
   ]
  },
  {
   "cell_type": "code",
   "execution_count": null,
   "id": "0f04e1da",
   "metadata": {},
   "outputs": [
    {
     "data": {
      "text/plain": [
       "679"
      ]
     },
     "execution_count": 6,
     "metadata": {},
     "output_type": "execute_result"
    }
   ],
   "source": [
    "num_duplicate_data = df_job_raw.duplicated().sum()\n",
    "num_duplicate_data"
   ]
  },
  {
   "cell_type": "markdown",
   "id": "5275a367",
   "metadata": {},
   "source": [
    "**Delete all the rows which is duplicated**"
   ]
  },
  {
   "cell_type": "code",
   "execution_count": null,
   "id": "40b14292",
   "metadata": {},
   "outputs": [],
   "source": [
    "df_job = df_job_raw.drop_duplicates()"
   ]
  },
  {
   "cell_type": "code",
   "execution_count": null,
   "id": "a7bcfe8e",
   "metadata": {},
   "outputs": [
    {
     "data": {
      "text/html": [
       "<div>\n",
       "<style scoped>\n",
       "    .dataframe tbody tr th:only-of-type {\n",
       "        vertical-align: middle;\n",
       "    }\n",
       "\n",
       "    .dataframe tbody tr th {\n",
       "        vertical-align: top;\n",
       "    }\n",
       "\n",
       "    .dataframe thead th {\n",
       "        text-align: right;\n",
       "    }\n",
       "</style>\n",
       "<table border=\"1\" class=\"dataframe\">\n",
       "  <thead>\n",
       "    <tr style=\"text-align: right;\">\n",
       "      <th></th>\n",
       "      <th>java</th>\n",
       "      <th>nodejs</th>\n",
       "      <th>reactjs</th>\n",
       "      <th>ruby</th>\n",
       "      <th>android</th>\n",
       "      <th>ios</th>\n",
       "      <th>php</th>\n",
       "      <th>python</th>\n",
       "      <th>c++</th>\n",
       "      <th>golang</th>\n",
       "      <th>angular</th>\n",
       "      <th>level</th>\n",
       "      <th>salary</th>\n",
       "    </tr>\n",
       "  </thead>\n",
       "  <tbody>\n",
       "    <tr>\n",
       "      <th>0</th>\n",
       "      <td>1</td>\n",
       "      <td>0</td>\n",
       "      <td>0</td>\n",
       "      <td>0</td>\n",
       "      <td>0</td>\n",
       "      <td>0</td>\n",
       "      <td>0</td>\n",
       "      <td>0</td>\n",
       "      <td>0</td>\n",
       "      <td>0</td>\n",
       "      <td>0</td>\n",
       "      <td>fresher</td>\n",
       "      <td>1,000 - 2,000 USD</td>\n",
       "    </tr>\n",
       "    <tr>\n",
       "      <th>1</th>\n",
       "      <td>1</td>\n",
       "      <td>0</td>\n",
       "      <td>1</td>\n",
       "      <td>0</td>\n",
       "      <td>0</td>\n",
       "      <td>0</td>\n",
       "      <td>0</td>\n",
       "      <td>0</td>\n",
       "      <td>0</td>\n",
       "      <td>0</td>\n",
       "      <td>0</td>\n",
       "      <td>fresher</td>\n",
       "      <td>You'll love it</td>\n",
       "    </tr>\n",
       "    <tr>\n",
       "      <th>2</th>\n",
       "      <td>1</td>\n",
       "      <td>0</td>\n",
       "      <td>0</td>\n",
       "      <td>0</td>\n",
       "      <td>0</td>\n",
       "      <td>0</td>\n",
       "      <td>0</td>\n",
       "      <td>1</td>\n",
       "      <td>0</td>\n",
       "      <td>0</td>\n",
       "      <td>0</td>\n",
       "      <td>fresher</td>\n",
       "      <td>You'll love it</td>\n",
       "    </tr>\n",
       "    <tr>\n",
       "      <th>3</th>\n",
       "      <td>1</td>\n",
       "      <td>0</td>\n",
       "      <td>0</td>\n",
       "      <td>0</td>\n",
       "      <td>0</td>\n",
       "      <td>0</td>\n",
       "      <td>0</td>\n",
       "      <td>0</td>\n",
       "      <td>0</td>\n",
       "      <td>0</td>\n",
       "      <td>0</td>\n",
       "      <td>fresher</td>\n",
       "      <td>1,000 - 2,500 USD</td>\n",
       "    </tr>\n",
       "    <tr>\n",
       "      <th>4</th>\n",
       "      <td>1</td>\n",
       "      <td>0</td>\n",
       "      <td>0</td>\n",
       "      <td>0</td>\n",
       "      <td>1</td>\n",
       "      <td>0</td>\n",
       "      <td>0</td>\n",
       "      <td>0</td>\n",
       "      <td>0</td>\n",
       "      <td>0</td>\n",
       "      <td>0</td>\n",
       "      <td>fresher</td>\n",
       "      <td>Up to 2.000 $</td>\n",
       "    </tr>\n",
       "    <tr>\n",
       "      <th>...</th>\n",
       "      <td>...</td>\n",
       "      <td>...</td>\n",
       "      <td>...</td>\n",
       "      <td>...</td>\n",
       "      <td>...</td>\n",
       "      <td>...</td>\n",
       "      <td>...</td>\n",
       "      <td>...</td>\n",
       "      <td>...</td>\n",
       "      <td>...</td>\n",
       "      <td>...</td>\n",
       "      <td>...</td>\n",
       "      <td>...</td>\n",
       "    </tr>\n",
       "    <tr>\n",
       "      <th>1189</th>\n",
       "      <td>0</td>\n",
       "      <td>0</td>\n",
       "      <td>0</td>\n",
       "      <td>0</td>\n",
       "      <td>0</td>\n",
       "      <td>0</td>\n",
       "      <td>0</td>\n",
       "      <td>0</td>\n",
       "      <td>0</td>\n",
       "      <td>0</td>\n",
       "      <td>1</td>\n",
       "      <td>senior</td>\n",
       "      <td>1,000 - 3,000 USD</td>\n",
       "    </tr>\n",
       "    <tr>\n",
       "      <th>1193</th>\n",
       "      <td>0</td>\n",
       "      <td>0</td>\n",
       "      <td>0</td>\n",
       "      <td>0</td>\n",
       "      <td>0</td>\n",
       "      <td>0</td>\n",
       "      <td>0</td>\n",
       "      <td>0</td>\n",
       "      <td>0</td>\n",
       "      <td>0</td>\n",
       "      <td>1</td>\n",
       "      <td>senior</td>\n",
       "      <td>25 m -55 m</td>\n",
       "    </tr>\n",
       "    <tr>\n",
       "      <th>1194</th>\n",
       "      <td>0</td>\n",
       "      <td>0</td>\n",
       "      <td>0</td>\n",
       "      <td>0</td>\n",
       "      <td>0</td>\n",
       "      <td>0</td>\n",
       "      <td>0</td>\n",
       "      <td>0</td>\n",
       "      <td>0</td>\n",
       "      <td>0</td>\n",
       "      <td>1</td>\n",
       "      <td>senior</td>\n",
       "      <td>2,000 - 4,000 dollar úc</td>\n",
       "    </tr>\n",
       "    <tr>\n",
       "      <th>1195</th>\n",
       "      <td>0</td>\n",
       "      <td>0</td>\n",
       "      <td>0</td>\n",
       "      <td>0</td>\n",
       "      <td>0</td>\n",
       "      <td>0</td>\n",
       "      <td>0</td>\n",
       "      <td>0</td>\n",
       "      <td>0</td>\n",
       "      <td>0</td>\n",
       "      <td>1</td>\n",
       "      <td>senior</td>\n",
       "      <td>1,000 - 2,500 USD</td>\n",
       "    </tr>\n",
       "    <tr>\n",
       "      <th>1198</th>\n",
       "      <td>0</td>\n",
       "      <td>0</td>\n",
       "      <td>0</td>\n",
       "      <td>0</td>\n",
       "      <td>0</td>\n",
       "      <td>0</td>\n",
       "      <td>0</td>\n",
       "      <td>0</td>\n",
       "      <td>0</td>\n",
       "      <td>0</td>\n",
       "      <td>1</td>\n",
       "      <td>senior</td>\n",
       "      <td>2,000 - 2,900 USD</td>\n",
       "    </tr>\n",
       "  </tbody>\n",
       "</table>\n",
       "<p>521 rows × 13 columns</p>\n",
       "</div>"
      ],
      "text/plain": [
       "      java  nodejs  reactjs  ruby  android  ios  php  python  c++  golang  \\\n",
       "0        1       0        0     0        0    0    0       0    0       0   \n",
       "1        1       0        1     0        0    0    0       0    0       0   \n",
       "2        1       0        0     0        0    0    0       1    0       0   \n",
       "3        1       0        0     0        0    0    0       0    0       0   \n",
       "4        1       0        0     0        1    0    0       0    0       0   \n",
       "...    ...     ...      ...   ...      ...  ...  ...     ...  ...     ...   \n",
       "1189     0       0        0     0        0    0    0       0    0       0   \n",
       "1193     0       0        0     0        0    0    0       0    0       0   \n",
       "1194     0       0        0     0        0    0    0       0    0       0   \n",
       "1195     0       0        0     0        0    0    0       0    0       0   \n",
       "1198     0       0        0     0        0    0    0       0    0       0   \n",
       "\n",
       "      angular    level                   salary  \n",
       "0           0  fresher        1,000 - 2,000 USD  \n",
       "1           0  fresher           You'll love it  \n",
       "2           0  fresher           You'll love it  \n",
       "3           0  fresher        1,000 - 2,500 USD  \n",
       "4           0  fresher            Up to 2.000 $  \n",
       "...       ...      ...                      ...  \n",
       "1189        1   senior        1,000 - 3,000 USD  \n",
       "1193        1   senior               25 m -55 m  \n",
       "1194        1   senior  2,000 - 4,000 dollar úc  \n",
       "1195        1   senior        1,000 - 2,500 USD  \n",
       "1198        1   senior        2,000 - 2,900 USD  \n",
       "\n",
       "[521 rows x 13 columns]"
      ]
     },
     "execution_count": 8,
     "metadata": {},
     "output_type": "execute_result"
    }
   ],
   "source": [
    "df_job "
   ]
  },
  {
   "cell_type": "markdown",
   "id": "8d7fc176",
   "metadata": {},
   "source": [
    "**Print all the diff values that the dataset have**"
   ]
  },
  {
   "cell_type": "code",
   "execution_count": null,
   "id": "bbb18908",
   "metadata": {},
   "outputs": [
    {
     "data": {
      "text/plain": [
       "array(['1,000 - 2,000 USD', \"You'll love it\", '1,000 - 2,500 USD',\n",
       "       'Up to 2.000 $', '500 - 2,500 USD', 'Up to $3,000',\n",
       "       '500 - 1,000 USD', '1,000 - 1,500 USD', 'Very attractive',\n",
       "       '800 - 2,000 USD', 'Very attractive ', '1,500 - 1,800 USD',\n",
       "       'Upto 2000$', 'Negotiable', 'Attractive salary',\n",
       "       '1,000 - 3,500 USD', 'Up to 50 mil', '1,000 - 1,300 USD',\n",
       "       'You will love it ', 'Up to 3500$', '800 - 2,500 USD',\n",
       "       '40mil-60mil (gross)', '800 - 900 USD', '1,700 - 3,000 USD',\n",
       "       '1,000 - 3,000 USD', 'Very competitive salary!',\n",
       "       '1,200 - 1,700 USD', \"Let's negotiate together!\",\n",
       "       'Very attractive!!!', '1,000 - 2,400 USD', '15 – 35m', '20 - 50m',\n",
       "       '~$1500', '3,000 - 4,000 USD', '2,000 - 5,000 USD',\n",
       "       '1,800 - 3,000 USD', '10m - 40m', 'Up to 30m', '1,000 - 1,800 USD',\n",
       "       'Up to $2500', '500 - 2,000 USD', 'Competitive salary',\n",
       "       'Up to $2100', '600 - 2,000 USD', '700 - 2,000 USD', 'Up to $3000',\n",
       "       '650 - 3,000 USD', '2,000 - 2,500 USD', 'Plus sign on bonus',\n",
       "       '2,000 - 3,200 USD', '2,000 - 3,000 USD', '2,500 - 3,500 USD',\n",
       "       '2,000 - 3,500 USD', '1,500 - 2,600 USD', '1,800 - 2,500 USD',\n",
       "       'Let us tell you', '1,500 - 3,000 USD', '1,400 - 2,000 USD',\n",
       "       '1,500 - 3,500 USD', 'Up to 2400$', '1,500 - 2,500 USD',\n",
       "       '1,200 - 2,500 USD', 'Up to 3,000 usd', '3,000 - 5,000 USD',\n",
       "       '1,500 - 2,000 USD', '1,200 - 3,000 USD', '2,300 - 2,800 USD',\n",
       "       'Negotiation', '1,300 - 1,700 USD', '1,000 - 1,200 USD',\n",
       "       '1,000 - 1,700 USD', '900 - 2,500 USD', 'Up to $2000',\n",
       "       '1,500 - 4,000 USD', 'Up to $1500', '700 - 1,500 USD',\n",
       "       'Up to $1000', '3,000 - 6,000 USD', '700 - 2,200 USD',\n",
       "       '1,300 - 2,400 USD', '2,000 - 3,300 USD', 'Min 870$',\n",
       "       'Up to 2000$ ', '1,000 - 2,900 USD', 'Super attractive',\n",
       "       'Up to $1400', '4,000 - 5,000 USD', 'Negotiable ',\n",
       "       '800 - 1,800 USD', '800 - 1,600 USD', '600 - 1,500 USD',\n",
       "       '1,200 - 2,000 USD', 'Up to 800$', 'Upto 2100$', '800 - 1,500 USD',\n",
       "       'Up to 1200$', 'Upto 3500$', '20m - 40m', 'Cạnh tranh !',\n",
       "       '560 - 740 USD', 'Upto $1800', 'You will love it',\n",
       "       \"You'll love it \", '2,200 - 2,600 USD', '2,000 - 4,000 USD',\n",
       "       '3,000 - 4,500 USD', 'Up to 2000', '800 - 3,500 USD', 'Upto 1200$',\n",
       "       '2,500 - 4,500 USD', '500 - 1,800 USD', 'Up to 1500$',\n",
       "       '900 - 1,500 USD', '800 - 1,700 USD', 'Negoti', '20 – 36 gross',\n",
       "       '2,500 - 4,000 USD', '500 - 1,500 USD', '500 - 1,200 USD',\n",
       "       '500 - 3,000 USD', '700 - 1,200 USD', 'Negotiate',\n",
       "       '15 - 20m + bonus', 'Up to 1000$', '500 - 900 USD', '15tr - 20tr',\n",
       "       'Thỏa thuận', '700 - 1,700 USD', '1,900 - 2,100 USD', '25 - 35m',\n",
       "       '2,300 - 3,000 USD', '25tr - 40tr', 'Up to 1.200$',\n",
       "       '2,000 - 4,500 USD', '2,500 - 2,800 USD', 'Up to $1700',\n",
       "       '45.000.000 - 65.000.000', '600$ - 1500$', 'Up to 22m',\n",
       "       'Negotiated', '1,700 - 2,500 USD', '2,500 - 3,200 USD',\n",
       "       '900 - 2,000 USD', '700 - 2,500 USD', '1,800 - 2,800 USD',\n",
       "       'Attractive salary!', 'Up to $2500 + bonus', '12m - 40m',\n",
       "       '700 - 1,600 USD', 'Negotiation base on skill', '25 m -55 m',\n",
       "       '2,000 - 4,000 dollar úc', 'Up to 60m gross', '2,000 - 2,900 USD'],\n",
       "      dtype=object)"
      ]
     },
     "execution_count": 9,
     "metadata": {},
     "output_type": "execute_result"
    }
   ],
   "source": [
    "df_job['salary'].unique()"
   ]
  },
  {
   "cell_type": "code",
   "execution_count": null,
   "id": "f0f5c93d",
   "metadata": {},
   "outputs": [
    {
     "data": {
      "text/plain": [
       "array(['fresher', 'junior', 'senior'], dtype=object)"
      ]
     },
     "execution_count": 10,
     "metadata": {},
     "output_type": "execute_result"
    }
   ],
   "source": [
    "df_job['level'].unique()"
   ]
  },
  {
   "cell_type": "markdown",
   "id": "8901f3b3",
   "metadata": {},
   "source": [
    "**Because we have many different values in atribute name *salary* so in the next step we just accept \n",
    "the values have number**"
   ]
  },
  {
   "cell_type": "markdown",
   "id": "1044f490",
   "metadata": {},
   "source": [
    "### Proccessing "
   ]
  },
  {
   "cell_type": "code",
   "execution_count": null,
   "id": "ec5d0a33",
   "metadata": {},
   "outputs": [],
   "source": [
    "import re\n",
    "\n",
    "def proccessing(jds):\n",
    "    result = []\n",
    "    for i in range(len(jds)):\n",
    "        level = { \"fresher\": 0, \"junior\": 1, \"senior\": 2 }\n",
    "        \n",
    "        jds[i][11] = level[jds[i][11]]\n",
    "        job_description = jds[i][12]\n",
    "        \n",
    "        # lower case and delted all trailing whitespace \n",
    "    \n",
    "        job_description = \"\".join(job_description.split()).lower()\n",
    "        \n",
    "        if job_description.find(\"upto\") == 0:\n",
    "            upto_salry = calculate_unit_salary(job_description.split(\"upto\")[1])\n",
    "            average = float(upto_salry) / 2\n",
    "            jds[i][12] = average\n",
    "            \n",
    "            result.append(jds[i])\n",
    "        else:\n",
    "            range_salary = job_description.split(\"-\")\n",
    "            \n",
    "            if len(range_salary) == 2:\n",
    "                min_salary = calculate_unit_salary(range_salary[0])\n",
    "                max_salary = calculate_unit_salary(range_salary[1])\n",
    "                average = (float(min_salary) + float(max_salary)) / 2\n",
    "                          \n",
    "                jds[i][12] = average\n",
    "\n",
    "                \n",
    "                result.append(jds[i])\n",
    "        \n",
    "    return result\n",
    "    \n",
    "\n",
    "def calculate_unit_salary(salary):    \n",
    "    salary_without_unit = salary.replace(\"usd\", \"\").replace(\"$\", \"\").replace(\",\", \"\").replace(\".\", \"\")\n",
    "        \n",
    "    # for in case salary dont pay with USD \n",
    "    \n",
    "    salary_only_number = re.findall('[0-9]+', salary_without_unit)[0]\n",
    "    \n",
    "    if len(salary_only_number) != len(salary_without_unit) and len(salary_only_number) == 2:\n",
    "        salary_without_unit = int(salary_only_number + \"000000\") * 0.000042\n",
    "        return salary_without_unit\n",
    "    if len(salary_only_number) >= 6:\n",
    "        salary_without_unit = int(salary_only_number) * 0.000042\n",
    "        return salary_without_unit\n",
    "    else:\n",
    "        return salary_only_number"
   ]
  },
  {
   "cell_type": "code",
   "execution_count": null,
   "id": "ca9b7114",
   "metadata": {},
   "outputs": [],
   "source": [
    "range_salary = proccessing(df_job.values)"
   ]
  },
  {
   "cell_type": "code",
   "execution_count": null,
   "id": "37fc1317",
   "metadata": {},
   "outputs": [],
   "source": [
    "range_salary = np.asarray(range_salary)"
   ]
  },
  {
   "cell_type": "code",
   "execution_count": null,
   "id": "88669ebb",
   "metadata": {},
   "outputs": [],
   "source": [
    "df_job = pd.DataFrame(range_salary, columns = ['java', 'nodejs', 'reactjs', 'ruby', 'android', 'ios', 'php', 'python', 'c++', 'golang', 'angular', 'level', 'average_salary'])"
   ]
  },
  {
   "cell_type": "markdown",
   "id": "f7a10e9e",
   "metadata": {},
   "source": [
    "**Print new datafame**"
   ]
  },
  {
   "cell_type": "code",
   "execution_count": null,
   "id": "014c6137",
   "metadata": {},
   "outputs": [
    {
     "data": {
      "text/html": [
       "<div>\n",
       "<style scoped>\n",
       "    .dataframe tbody tr th:only-of-type {\n",
       "        vertical-align: middle;\n",
       "    }\n",
       "\n",
       "    .dataframe tbody tr th {\n",
       "        vertical-align: top;\n",
       "    }\n",
       "\n",
       "    .dataframe thead th {\n",
       "        text-align: right;\n",
       "    }\n",
       "</style>\n",
       "<table border=\"1\" class=\"dataframe\">\n",
       "  <thead>\n",
       "    <tr style=\"text-align: right;\">\n",
       "      <th></th>\n",
       "      <th>java</th>\n",
       "      <th>nodejs</th>\n",
       "      <th>reactjs</th>\n",
       "      <th>ruby</th>\n",
       "      <th>android</th>\n",
       "      <th>ios</th>\n",
       "      <th>php</th>\n",
       "      <th>python</th>\n",
       "      <th>c++</th>\n",
       "      <th>golang</th>\n",
       "      <th>angular</th>\n",
       "      <th>level</th>\n",
       "      <th>average_salary</th>\n",
       "    </tr>\n",
       "  </thead>\n",
       "  <tbody>\n",
       "    <tr>\n",
       "      <th>0</th>\n",
       "      <td>1</td>\n",
       "      <td>0</td>\n",
       "      <td>0</td>\n",
       "      <td>0</td>\n",
       "      <td>0</td>\n",
       "      <td>0</td>\n",
       "      <td>0</td>\n",
       "      <td>0</td>\n",
       "      <td>0</td>\n",
       "      <td>0</td>\n",
       "      <td>0</td>\n",
       "      <td>0</td>\n",
       "      <td>1500.0</td>\n",
       "    </tr>\n",
       "    <tr>\n",
       "      <th>1</th>\n",
       "      <td>1</td>\n",
       "      <td>0</td>\n",
       "      <td>0</td>\n",
       "      <td>0</td>\n",
       "      <td>0</td>\n",
       "      <td>0</td>\n",
       "      <td>0</td>\n",
       "      <td>0</td>\n",
       "      <td>0</td>\n",
       "      <td>0</td>\n",
       "      <td>0</td>\n",
       "      <td>0</td>\n",
       "      <td>1750.0</td>\n",
       "    </tr>\n",
       "    <tr>\n",
       "      <th>2</th>\n",
       "      <td>1</td>\n",
       "      <td>0</td>\n",
       "      <td>0</td>\n",
       "      <td>0</td>\n",
       "      <td>1</td>\n",
       "      <td>0</td>\n",
       "      <td>0</td>\n",
       "      <td>0</td>\n",
       "      <td>0</td>\n",
       "      <td>0</td>\n",
       "      <td>0</td>\n",
       "      <td>0</td>\n",
       "      <td>1000.0</td>\n",
       "    </tr>\n",
       "    <tr>\n",
       "      <th>3</th>\n",
       "      <td>1</td>\n",
       "      <td>0</td>\n",
       "      <td>0</td>\n",
       "      <td>0</td>\n",
       "      <td>0</td>\n",
       "      <td>0</td>\n",
       "      <td>0</td>\n",
       "      <td>0</td>\n",
       "      <td>0</td>\n",
       "      <td>0</td>\n",
       "      <td>0</td>\n",
       "      <td>0</td>\n",
       "      <td>1500.0</td>\n",
       "    </tr>\n",
       "    <tr>\n",
       "      <th>4</th>\n",
       "      <td>1</td>\n",
       "      <td>0</td>\n",
       "      <td>0</td>\n",
       "      <td>0</td>\n",
       "      <td>0</td>\n",
       "      <td>0</td>\n",
       "      <td>0</td>\n",
       "      <td>0</td>\n",
       "      <td>0</td>\n",
       "      <td>0</td>\n",
       "      <td>1</td>\n",
       "      <td>0</td>\n",
       "      <td>1500.0</td>\n",
       "    </tr>\n",
       "    <tr>\n",
       "      <th>...</th>\n",
       "      <td>...</td>\n",
       "      <td>...</td>\n",
       "      <td>...</td>\n",
       "      <td>...</td>\n",
       "      <td>...</td>\n",
       "      <td>...</td>\n",
       "      <td>...</td>\n",
       "      <td>...</td>\n",
       "      <td>...</td>\n",
       "      <td>...</td>\n",
       "      <td>...</td>\n",
       "      <td>...</td>\n",
       "      <td>...</td>\n",
       "    </tr>\n",
       "    <tr>\n",
       "      <th>372</th>\n",
       "      <td>0</td>\n",
       "      <td>0</td>\n",
       "      <td>0</td>\n",
       "      <td>0</td>\n",
       "      <td>0</td>\n",
       "      <td>0</td>\n",
       "      <td>0</td>\n",
       "      <td>0</td>\n",
       "      <td>0</td>\n",
       "      <td>0</td>\n",
       "      <td>1</td>\n",
       "      <td>2</td>\n",
       "      <td>2000.0</td>\n",
       "    </tr>\n",
       "    <tr>\n",
       "      <th>373</th>\n",
       "      <td>0</td>\n",
       "      <td>0</td>\n",
       "      <td>0</td>\n",
       "      <td>0</td>\n",
       "      <td>0</td>\n",
       "      <td>0</td>\n",
       "      <td>0</td>\n",
       "      <td>0</td>\n",
       "      <td>0</td>\n",
       "      <td>0</td>\n",
       "      <td>1</td>\n",
       "      <td>2</td>\n",
       "      <td>1680.0</td>\n",
       "    </tr>\n",
       "    <tr>\n",
       "      <th>374</th>\n",
       "      <td>0</td>\n",
       "      <td>0</td>\n",
       "      <td>0</td>\n",
       "      <td>0</td>\n",
       "      <td>0</td>\n",
       "      <td>0</td>\n",
       "      <td>0</td>\n",
       "      <td>0</td>\n",
       "      <td>0</td>\n",
       "      <td>0</td>\n",
       "      <td>1</td>\n",
       "      <td>2</td>\n",
       "      <td>3000.0</td>\n",
       "    </tr>\n",
       "    <tr>\n",
       "      <th>375</th>\n",
       "      <td>0</td>\n",
       "      <td>0</td>\n",
       "      <td>0</td>\n",
       "      <td>0</td>\n",
       "      <td>0</td>\n",
       "      <td>0</td>\n",
       "      <td>0</td>\n",
       "      <td>0</td>\n",
       "      <td>0</td>\n",
       "      <td>0</td>\n",
       "      <td>1</td>\n",
       "      <td>2</td>\n",
       "      <td>1750.0</td>\n",
       "    </tr>\n",
       "    <tr>\n",
       "      <th>376</th>\n",
       "      <td>0</td>\n",
       "      <td>0</td>\n",
       "      <td>0</td>\n",
       "      <td>0</td>\n",
       "      <td>0</td>\n",
       "      <td>0</td>\n",
       "      <td>0</td>\n",
       "      <td>0</td>\n",
       "      <td>0</td>\n",
       "      <td>0</td>\n",
       "      <td>1</td>\n",
       "      <td>2</td>\n",
       "      <td>2450.0</td>\n",
       "    </tr>\n",
       "  </tbody>\n",
       "</table>\n",
       "<p>377 rows × 13 columns</p>\n",
       "</div>"
      ],
      "text/plain": [
       "    java nodejs reactjs ruby android ios php python c++ golang angular level  \\\n",
       "0      1      0       0    0       0   0   0      0   0      0       0     0   \n",
       "1      1      0       0    0       0   0   0      0   0      0       0     0   \n",
       "2      1      0       0    0       1   0   0      0   0      0       0     0   \n",
       "3      1      0       0    0       0   0   0      0   0      0       0     0   \n",
       "4      1      0       0    0       0   0   0      0   0      0       1     0   \n",
       "..   ...    ...     ...  ...     ...  ..  ..    ...  ..    ...     ...   ...   \n",
       "372    0      0       0    0       0   0   0      0   0      0       1     2   \n",
       "373    0      0       0    0       0   0   0      0   0      0       1     2   \n",
       "374    0      0       0    0       0   0   0      0   0      0       1     2   \n",
       "375    0      0       0    0       0   0   0      0   0      0       1     2   \n",
       "376    0      0       0    0       0   0   0      0   0      0       1     2   \n",
       "\n",
       "    average_salary  \n",
       "0           1500.0  \n",
       "1           1750.0  \n",
       "2           1000.0  \n",
       "3           1500.0  \n",
       "4           1500.0  \n",
       "..             ...  \n",
       "372         2000.0  \n",
       "373         1680.0  \n",
       "374         3000.0  \n",
       "375         1750.0  \n",
       "376         2450.0  \n",
       "\n",
       "[377 rows x 13 columns]"
      ]
     },
     "execution_count": 15,
     "metadata": {},
     "output_type": "execute_result"
    }
   ],
   "source": [
    "df_job "
   ]
  },
  {
   "cell_type": "markdown",
   "id": "342cb0c6",
   "metadata": {},
   "source": [
    "### What data type does each column currently have? Is there a column with a data type that is not suitable for further processing?"
   ]
  },
  {
   "cell_type": "code",
   "execution_count": null,
   "id": "16e03cd8",
   "metadata": {},
   "outputs": [],
   "source": [
    "def open_object_dtype(s):\n",
    "    dtypes = set()\n",
    "    \n",
    "    func = lambda e: dtypes.add(type(e))\n",
    "    s.apply(func)\n",
    "    \n",
    "    return dtypes"
   ]
  },
  {
   "cell_type": "code",
   "execution_count": null,
   "id": "b9e174af",
   "metadata": {},
   "outputs": [
    {
     "name": "stdout",
     "output_type": "stream",
     "text": [
      "java                 {<class 'int'>}\n",
      "nodejs               {<class 'int'>}\n",
      "reactjs              {<class 'int'>}\n",
      "ruby                 {<class 'int'>}\n",
      "android              {<class 'int'>}\n",
      "ios                  {<class 'int'>}\n",
      "php                  {<class 'int'>}\n",
      "python               {<class 'int'>}\n",
      "c++                  {<class 'int'>}\n",
      "golang               {<class 'int'>}\n",
      "angular              {<class 'int'>}\n",
      "level                {<class 'int'>}\n",
      "average_salary       {<class 'float'>}\n"
     ]
    }
   ],
   "source": [
    "df_job_column = df_job.columns.to_list() \n",
    "for col in df_job_column:\n",
    "    print(f'{col:<20}', open_object_dtype(df_job[col]))"
   ]
  },
  {
   "cell_type": "code",
   "execution_count": null,
   "id": "9b1b54bd",
   "metadata": {},
   "outputs": [
    {
     "data": {
      "text/plain": [
       "java              object\n",
       "nodejs            object\n",
       "reactjs           object\n",
       "ruby              object\n",
       "android           object\n",
       "ios               object\n",
       "php               object\n",
       "python            object\n",
       "c++               object\n",
       "golang            object\n",
       "angular           object\n",
       "level             object\n",
       "average_salary    object\n",
       "dtype: object"
      ]
     },
     "execution_count": 18,
     "metadata": {},
     "output_type": "execute_result"
    }
   ],
   "source": [
    "dtypes = df_job.dtypes\n",
    "dtypes"
   ]
  },
  {
   "cell_type": "markdown",
   "id": "cfbe9519",
   "metadata": {},
   "source": [
    "### Datafame's data shortage statistics"
   ]
  },
  {
   "cell_type": "code",
   "execution_count": null,
   "id": "e1ff04a5",
   "metadata": {},
   "outputs": [
    {
     "name": "stdout",
     "output_type": "stream",
     "text": [
      "<class 'pandas.core.frame.DataFrame'>\n",
      "RangeIndex: 377 entries, 0 to 376\n",
      "Data columns (total 13 columns):\n",
      " #   Column          Non-Null Count  Dtype \n",
      "---  ------          --------------  ----- \n",
      " 0   java            377 non-null    object\n",
      " 1   nodejs          377 non-null    object\n",
      " 2   reactjs         377 non-null    object\n",
      " 3   ruby            377 non-null    object\n",
      " 4   android         377 non-null    object\n",
      " 5   ios             377 non-null    object\n",
      " 6   php             377 non-null    object\n",
      " 7   python          377 non-null    object\n",
      " 8   c++             377 non-null    object\n",
      " 9   golang          377 non-null    object\n",
      " 10  angular         377 non-null    object\n",
      " 11  level           377 non-null    object\n",
      " 12  average_salary  377 non-null    object\n",
      "dtypes: object(13)\n",
      "memory usage: 38.4+ KB\n"
     ]
    }
   ],
   "source": [
    "df_job.info()"
   ]
  },
  {
   "cell_type": "markdown",
   "id": "b595eba9",
   "metadata": {},
   "source": [
    "**Print all null value that all attributes have**"
   ]
  },
  {
   "cell_type": "code",
   "execution_count": null,
   "id": "3b1c4ec5",
   "metadata": {},
   "outputs": [
    {
     "data": {
      "text/plain": [
       "java              0\n",
       "nodejs            0\n",
       "reactjs           0\n",
       "ruby              0\n",
       "android           0\n",
       "ios               0\n",
       "php               0\n",
       "python            0\n",
       "c++               0\n",
       "golang            0\n",
       "angular           0\n",
       "level             0\n",
       "average_salary    0\n",
       "dtype: int64"
      ]
     },
     "execution_count": 20,
     "metadata": {},
     "output_type": "execute_result"
    }
   ],
   "source": [
    "null_columns = df_job.isnull().sum()\n",
    "null_columns"
   ]
  },
  {
   "cell_type": "markdown",
   "id": "896c9d1c",
   "metadata": {},
   "source": [
    "### With column about salary, how are values distributed?"
   ]
  },
  {
   "cell_type": "code",
   "execution_count": null,
   "id": "8aebca1d",
   "metadata": {},
   "outputs": [
    {
     "data": {
      "text/html": [
       "<div>\n",
       "<style scoped>\n",
       "    .dataframe tbody tr th:only-of-type {\n",
       "        vertical-align: middle;\n",
       "    }\n",
       "\n",
       "    .dataframe tbody tr th {\n",
       "        vertical-align: top;\n",
       "    }\n",
       "\n",
       "    .dataframe thead th {\n",
       "        text-align: right;\n",
       "    }\n",
       "</style>\n",
       "<table border=\"1\" class=\"dataframe\">\n",
       "  <thead>\n",
       "    <tr style=\"text-align: right;\">\n",
       "      <th></th>\n",
       "      <th>average_salary</th>\n",
       "    </tr>\n",
       "  </thead>\n",
       "  <tbody>\n",
       "    <tr>\n",
       "      <th>missing_ratio</th>\n",
       "      <td>0.0</td>\n",
       "    </tr>\n",
       "    <tr>\n",
       "      <th>min</th>\n",
       "      <td>400.0</td>\n",
       "    </tr>\n",
       "    <tr>\n",
       "      <th>lower_quartile</th>\n",
       "      <td>1150.0</td>\n",
       "    </tr>\n",
       "    <tr>\n",
       "      <th>median</th>\n",
       "      <td>1500.0</td>\n",
       "    </tr>\n",
       "    <tr>\n",
       "      <th>upper_quartile</th>\n",
       "      <td>2000.0</td>\n",
       "    </tr>\n",
       "    <tr>\n",
       "      <th>max</th>\n",
       "      <td>4500.0</td>\n",
       "    </tr>\n",
       "  </tbody>\n",
       "</table>\n",
       "</div>"
      ],
      "text/plain": [
       "                average_salary\n",
       "missing_ratio              0.0\n",
       "min                      400.0\n",
       "lower_quartile          1150.0\n",
       "median                  1500.0\n",
       "upper_quartile          2000.0\n",
       "max                     4500.0"
      ]
     },
     "execution_count": 21,
     "metadata": {},
     "output_type": "execute_result"
    }
   ],
   "source": [
    "df_job['average_salary'] = df_job.average_salary.astype(float)\n",
    "df_salary = df_job[[\"average_salary\"]]\n",
    "\n",
    "def missing_ratio(col):\n",
    "    return (100 * col.isna().sum() / len(col)).round(1)\n",
    "\n",
    "def lower_quartile(col):\n",
    "    return col.quantile(0.25).round(1)\n",
    "\n",
    "def median(col):\n",
    "    return col.quantile(0.5).round(1)\n",
    "\n",
    "def upper_quartile(col):\n",
    "    return col.quantile(0.75).round(1)\n",
    "\n",
    "nume_col_info_df = df_salary.agg(\n",
    "    [\n",
    "        missing_ratio, \n",
    "        min, lower_quartile, \n",
    "        median, \n",
    "        upper_quartile, \n",
    "        max]\n",
    "    ).round(1)\n",
    "\n",
    "nume_col_info_df"
   ]
  },
  {
   "cell_type": "markdown",
   "id": "d81f2101",
   "metadata": {},
   "source": [
    "### With column about level, how are values distributed?"
   ]
  },
  {
   "cell_type": "code",
   "execution_count": null,
   "id": "651f0ec1",
   "metadata": {},
   "outputs": [
    {
     "data": {
      "text/html": [
       "<div>\n",
       "<style scoped>\n",
       "    .dataframe tbody tr th:only-of-type {\n",
       "        vertical-align: middle;\n",
       "    }\n",
       "\n",
       "    .dataframe tbody tr th {\n",
       "        vertical-align: top;\n",
       "    }\n",
       "\n",
       "    .dataframe thead th {\n",
       "        text-align: right;\n",
       "    }\n",
       "</style>\n",
       "<table border=\"1\" class=\"dataframe\">\n",
       "  <thead>\n",
       "    <tr style=\"text-align: right;\">\n",
       "      <th></th>\n",
       "      <th>level</th>\n",
       "    </tr>\n",
       "  </thead>\n",
       "  <tbody>\n",
       "    <tr>\n",
       "      <th>0</th>\n",
       "      <td>0</td>\n",
       "    </tr>\n",
       "    <tr>\n",
       "      <th>1</th>\n",
       "      <td>0</td>\n",
       "    </tr>\n",
       "    <tr>\n",
       "      <th>2</th>\n",
       "      <td>0</td>\n",
       "    </tr>\n",
       "    <tr>\n",
       "      <th>3</th>\n",
       "      <td>0</td>\n",
       "    </tr>\n",
       "    <tr>\n",
       "      <th>4</th>\n",
       "      <td>0</td>\n",
       "    </tr>\n",
       "    <tr>\n",
       "      <th>...</th>\n",
       "      <td>...</td>\n",
       "    </tr>\n",
       "    <tr>\n",
       "      <th>372</th>\n",
       "      <td>2</td>\n",
       "    </tr>\n",
       "    <tr>\n",
       "      <th>373</th>\n",
       "      <td>2</td>\n",
       "    </tr>\n",
       "    <tr>\n",
       "      <th>374</th>\n",
       "      <td>2</td>\n",
       "    </tr>\n",
       "    <tr>\n",
       "      <th>375</th>\n",
       "      <td>2</td>\n",
       "    </tr>\n",
       "    <tr>\n",
       "      <th>376</th>\n",
       "      <td>2</td>\n",
       "    </tr>\n",
       "  </tbody>\n",
       "</table>\n",
       "<p>377 rows × 1 columns</p>\n",
       "</div>"
      ],
      "text/plain": [
       "    level\n",
       "0       0\n",
       "1       0\n",
       "2       0\n",
       "3       0\n",
       "4       0\n",
       "..    ...\n",
       "372     2\n",
       "373     2\n",
       "374     2\n",
       "375     2\n",
       "376     2\n",
       "\n",
       "[377 rows x 1 columns]"
      ]
     },
     "execution_count": 22,
     "metadata": {},
     "output_type": "execute_result"
    }
   ],
   "source": [
    "df_level = df_job[[\"level\"]]\n",
    "\n",
    "def missing_ratio(col):\n",
    "    return (100 * col.isna().sum() / len(col)).round(1)\n",
    "\n",
    "def num_values(col):\n",
    "    return len(col.explode().value_counts().to_dict())\n",
    "\n",
    "def value_percentages(col):\n",
    "    return (col.explode().value_counts(normalize = True) * 100).round(1).to_dict()\n",
    "\n",
    "cate_col_info_df = df_level.agg([missing_ratio, num_values, value_percentages]).round(1)\n",
    "\n",
    "cate_col_info_df\n",
    "\n",
    "df_level"
   ]
  },
  {
   "cell_type": "markdown",
   "id": "d98ae912",
   "metadata": {},
   "source": [
    "## 2. Ask a meaningful question that needs answering"
   ]
  },
  {
   "cell_type": "markdown",
   "id": "9f56483a",
   "metadata": {},
   "source": [
    "* Question 1: Compare the ratio of the employer's experience requirement\n",
    "* Question 2: Top 5 most popular skills\n",
    "* Question 3: Shows the degree of correlation between two factors \"level\" and \"average_salary\"\n",
    "* Question 4: Top 5 skills with the highest average salary \n",
    "* Question 5: Average salary of each level ? \n",
    "* Question 6: For each skill, how will the levels be distributed?\n",
    "* Question 7: What is the average salary of each skill for each level?"
   ]
  },
  {
   "cell_type": "markdown",
   "id": "253c84af",
   "metadata": {},
   "source": [
    "## Analyzing data to find the answer for each question"
   ]
  },
  {
   "cell_type": "markdown",
   "id": "fcd5402b",
   "metadata": {},
   "source": [
    "### Question 1: Compare the ratio of the employer's experience requirement"
   ]
  },
  {
   "cell_type": "code",
   "execution_count": null,
   "id": "14f2fbcb",
   "metadata": {},
   "outputs": [
    {
     "data": {
      "image/png": "[encoded data removed]",
      "text/plain": [
       "<Figure size 800x500 with 1 Axes>"
      ]
     },
     "metadata": {},
     "output_type": "display_data"
    }
   ],
   "source": [
    "plt.figure(figsize=(8, 5))\n",
    "plt.title('Employer experience', fontsize=15)\n",
    "plt.pie(df_job['level'].value_counts(), \n",
    "        labels=df_job['level'].value_counts().keys(),\n",
    "        textprops={\"fontsize\":10},\n",
    "        radius=1.1, startangle=90,\n",
    "        colors=['#af0055', '#D05C9C'],\n",
    "        autopct='%.1f%%')\n",
    "plt.show()"
   ]
  },
  {
   "cell_type": "markdown",
   "id": "3a674022",
   "metadata": {},
   "source": [
    "**COMMENT:**"
   ]
  },
  {
   "cell_type": "markdown",
   "id": "db3adee5",
   "metadata": {},
   "source": [
    "**MEANING:**"
   ]
  },
  {
   "cell_type": "markdown",
   "id": "0d421313",
   "metadata": {},
   "source": [
    "### Question 2: Top 5 most popular skills"
   ]
  },
  {
   "cell_type": "code",
   "execution_count": 78,
   "id": "0eccf089",
   "metadata": {},
   "outputs": [
    {
     "data": {
      "text/plain": [
       "java       416\n",
       "reactjs    245\n",
       "python     220\n",
       "nodejs     210\n",
       "php        193\n",
       "dtype: object"
      ]
     },
     "execution_count": 78,
     "metadata": {},
     "output_type": "execute_result"
    }
   ],
   "source": [
    "recruit = df_job_raw.sum(axis=0)\n",
    "#recruit.sort_values(ascending=True,na_position='last')\n",
    "recruit.drop(labels=['level','salary']).sort_values(ascending=False)[:5]"
   ]
  },
  {
   "cell_type": "code",
   "execution_count": 77,
   "id": "85e79bdb",
   "metadata": {},
   "outputs": [
    {
     "data": {
      "text/html": [
       "<div>\n",
       "<style scoped>\n",
       "    .dataframe tbody tr th:only-of-type {\n",
       "        vertical-align: middle;\n",
       "    }\n",
       "\n",
       "    .dataframe tbody tr th {\n",
       "        vertical-align: top;\n",
       "    }\n",
       "\n",
       "    .dataframe thead th {\n",
       "        text-align: right;\n",
       "    }\n",
       "</style>\n",
       "<table border=\"1\" class=\"dataframe\">\n",
       "  <thead>\n",
       "    <tr style=\"text-align: right;\">\n",
       "      <th></th>\n",
       "      <th>java</th>\n",
       "      <th>nodejs</th>\n",
       "      <th>reactjs</th>\n",
       "      <th>ruby</th>\n",
       "      <th>android</th>\n",
       "      <th>ios</th>\n",
       "      <th>php</th>\n",
       "      <th>python</th>\n",
       "      <th>c++</th>\n",
       "      <th>golang</th>\n",
       "      <th>angular</th>\n",
       "      <th>level</th>\n",
       "      <th>average_salary</th>\n",
       "    </tr>\n",
       "  </thead>\n",
       "  <tbody>\n",
       "    <tr>\n",
       "      <th>0</th>\n",
       "      <td>1</td>\n",
       "      <td>0</td>\n",
       "      <td>0</td>\n",
       "      <td>0</td>\n",
       "      <td>0</td>\n",
       "      <td>0</td>\n",
       "      <td>0</td>\n",
       "      <td>0</td>\n",
       "      <td>0</td>\n",
       "      <td>0</td>\n",
       "      <td>0</td>\n",
       "      <td>0</td>\n",
       "      <td>1500.0</td>\n",
       "    </tr>\n",
       "    <tr>\n",
       "      <th>1</th>\n",
       "      <td>1</td>\n",
       "      <td>0</td>\n",
       "      <td>0</td>\n",
       "      <td>0</td>\n",
       "      <td>0</td>\n",
       "      <td>0</td>\n",
       "      <td>0</td>\n",
       "      <td>0</td>\n",
       "      <td>0</td>\n",
       "      <td>0</td>\n",
       "      <td>0</td>\n",
       "      <td>0</td>\n",
       "      <td>1750.0</td>\n",
       "    </tr>\n",
       "    <tr>\n",
       "      <th>2</th>\n",
       "      <td>1</td>\n",
       "      <td>0</td>\n",
       "      <td>0</td>\n",
       "      <td>0</td>\n",
       "      <td>1</td>\n",
       "      <td>0</td>\n",
       "      <td>0</td>\n",
       "      <td>0</td>\n",
       "      <td>0</td>\n",
       "      <td>0</td>\n",
       "      <td>0</td>\n",
       "      <td>0</td>\n",
       "      <td>1000.0</td>\n",
       "    </tr>\n",
       "    <tr>\n",
       "      <th>3</th>\n",
       "      <td>1</td>\n",
       "      <td>0</td>\n",
       "      <td>0</td>\n",
       "      <td>0</td>\n",
       "      <td>0</td>\n",
       "      <td>0</td>\n",
       "      <td>0</td>\n",
       "      <td>0</td>\n",
       "      <td>0</td>\n",
       "      <td>0</td>\n",
       "      <td>0</td>\n",
       "      <td>0</td>\n",
       "      <td>1500.0</td>\n",
       "    </tr>\n",
       "    <tr>\n",
       "      <th>4</th>\n",
       "      <td>1</td>\n",
       "      <td>0</td>\n",
       "      <td>0</td>\n",
       "      <td>0</td>\n",
       "      <td>0</td>\n",
       "      <td>0</td>\n",
       "      <td>0</td>\n",
       "      <td>0</td>\n",
       "      <td>0</td>\n",
       "      <td>0</td>\n",
       "      <td>1</td>\n",
       "      <td>0</td>\n",
       "      <td>1500.0</td>\n",
       "    </tr>\n",
       "    <tr>\n",
       "      <th>...</th>\n",
       "      <td>...</td>\n",
       "      <td>...</td>\n",
       "      <td>...</td>\n",
       "      <td>...</td>\n",
       "      <td>...</td>\n",
       "      <td>...</td>\n",
       "      <td>...</td>\n",
       "      <td>...</td>\n",
       "      <td>...</td>\n",
       "      <td>...</td>\n",
       "      <td>...</td>\n",
       "      <td>...</td>\n",
       "      <td>...</td>\n",
       "    </tr>\n",
       "    <tr>\n",
       "      <th>372</th>\n",
       "      <td>0</td>\n",
       "      <td>0</td>\n",
       "      <td>0</td>\n",
       "      <td>0</td>\n",
       "      <td>0</td>\n",
       "      <td>0</td>\n",
       "      <td>0</td>\n",
       "      <td>0</td>\n",
       "      <td>0</td>\n",
       "      <td>0</td>\n",
       "      <td>1</td>\n",
       "      <td>2</td>\n",
       "      <td>2000.0</td>\n",
       "    </tr>\n",
       "    <tr>\n",
       "      <th>373</th>\n",
       "      <td>0</td>\n",
       "      <td>0</td>\n",
       "      <td>0</td>\n",
       "      <td>0</td>\n",
       "      <td>0</td>\n",
       "      <td>0</td>\n",
       "      <td>0</td>\n",
       "      <td>0</td>\n",
       "      <td>0</td>\n",
       "      <td>0</td>\n",
       "      <td>1</td>\n",
       "      <td>2</td>\n",
       "      <td>1680.0</td>\n",
       "    </tr>\n",
       "    <tr>\n",
       "      <th>374</th>\n",
       "      <td>0</td>\n",
       "      <td>0</td>\n",
       "      <td>0</td>\n",
       "      <td>0</td>\n",
       "      <td>0</td>\n",
       "      <td>0</td>\n",
       "      <td>0</td>\n",
       "      <td>0</td>\n",
       "      <td>0</td>\n",
       "      <td>0</td>\n",
       "      <td>1</td>\n",
       "      <td>2</td>\n",
       "      <td>3000.0</td>\n",
       "    </tr>\n",
       "    <tr>\n",
       "      <th>375</th>\n",
       "      <td>0</td>\n",
       "      <td>0</td>\n",
       "      <td>0</td>\n",
       "      <td>0</td>\n",
       "      <td>0</td>\n",
       "      <td>0</td>\n",
       "      <td>0</td>\n",
       "      <td>0</td>\n",
       "      <td>0</td>\n",
       "      <td>0</td>\n",
       "      <td>1</td>\n",
       "      <td>2</td>\n",
       "      <td>1750.0</td>\n",
       "    </tr>\n",
       "    <tr>\n",
       "      <th>376</th>\n",
       "      <td>0</td>\n",
       "      <td>0</td>\n",
       "      <td>0</td>\n",
       "      <td>0</td>\n",
       "      <td>0</td>\n",
       "      <td>0</td>\n",
       "      <td>0</td>\n",
       "      <td>0</td>\n",
       "      <td>0</td>\n",
       "      <td>0</td>\n",
       "      <td>1</td>\n",
       "      <td>2</td>\n",
       "      <td>2450.0</td>\n",
       "    </tr>\n",
       "  </tbody>\n",
       "</table>\n",
       "<p>377 rows × 13 columns</p>\n",
       "</div>"
      ],
      "text/plain": [
       "    java nodejs reactjs ruby android ios php python c++ golang angular level  \\\n",
       "0      1      0       0    0       0   0   0      0   0      0       0     0   \n",
       "1      1      0       0    0       0   0   0      0   0      0       0     0   \n",
       "2      1      0       0    0       1   0   0      0   0      0       0     0   \n",
       "3      1      0       0    0       0   0   0      0   0      0       0     0   \n",
       "4      1      0       0    0       0   0   0      0   0      0       1     0   \n",
       "..   ...    ...     ...  ...     ...  ..  ..    ...  ..    ...     ...   ...   \n",
       "372    0      0       0    0       0   0   0      0   0      0       1     2   \n",
       "373    0      0       0    0       0   0   0      0   0      0       1     2   \n",
       "374    0      0       0    0       0   0   0      0   0      0       1     2   \n",
       "375    0      0       0    0       0   0   0      0   0      0       1     2   \n",
       "376    0      0       0    0       0   0   0      0   0      0       1     2   \n",
       "\n",
       "     average_salary  \n",
       "0            1500.0  \n",
       "1            1750.0  \n",
       "2            1000.0  \n",
       "3            1500.0  \n",
       "4            1500.0  \n",
       "..              ...  \n",
       "372          2000.0  \n",
       "373          1680.0  \n",
       "374          3000.0  \n",
       "375          1750.0  \n",
       "376          2450.0  \n",
       "\n",
       "[377 rows x 13 columns]"
      ]
     },
     "execution_count": 77,
     "metadata": {},
     "output_type": "execute_result"
    }
   ],
   "source": [
    "\n",
    "df_job"
   ]
  },
  {
   "cell_type": "markdown",
   "id": "dd4c994b",
   "metadata": {},
   "source": [
    "### Question 3: Shows the degree of correlation between two factors \"level\" and \"average_salary\"  ?"
   ]
  },
  {
   "cell_type": "code",
   "execution_count": 70,
   "id": "35ea53cd",
   "metadata": {},
   "outputs": [],
   "source": [
    "# java_fresher = df_job[df_job[\"java\"] == 1][\"average_salary\"].sum()\n",
    "# node_fresher = df_job[df_job[\"nodejs\"] == 1][\"average_salary\"].sum()\n",
    "# react_fresher = df_job[df_job[\"reactjs\"] == 1][\"average_salary\"].sum()\n",
    "# ruby_fresher = df_job[df_job[\"ruby\"] == 1][\"average_salary\"].sum()\n",
    "# android_fresher = df_job[df_job[\"android\"] == 1][\"average_salary\"].sum()\n",
    "# ios_fresher = df_job[df_job[\"ios\"] == 1][\"average_salary\"].sum()\n",
    "# php_fresher = df_job[df_job[\"php\"] == 1][\"average_salary\"].sum()\n",
    "# python_fresher = df_job[df_job[\"python\"] == 1][\"average_salary\"].sum()\n",
    "# c_fresher = df_job[df_job[\"c++\"] == 1][\"average_salary\"].sum()\n",
    "# golang_fresher = df_job[df_job[\"golang\"] == 1][\"average_salary\"].sum()\n",
    "# angular_fresher = df_job[df_job[\"angular\"] == 1][\"average_salary\"].sum()\n",
    "\n",
    "\n",
    "# data = {'java': java_fresher, 'node': node_fresher, 'react': react_fresher,\n",
    "#         'ruby': ruby_fresher, 'android': android_fresher, 'ios': ios_fresher, 'php': php_fresher, \"c++\": c_fresher,\n",
    "#        'python': python_fresher, 'golang': golang_fresher, 'angular': angular_fresher }\n",
    "\n",
    "# Total_Salaries = {'Skill':data.keys(),'Total Salary' : data.values()}\n",
    "# df = pd.DataFrame(Total_Salaries)\n",
    "# df\n",
    "# bn = df_job.groupby('Skill')['Total Salary'].sum()\n",
    "# bn\n",
    "# ratio = bn.sort_values()\n",
    "# temp = pd.Series([ratio.head(6).sum()],index = ['6 other skills'])\n",
    "# ratio = ratio.add(temp, fill_value=0)\n",
    "# ratio = ratio.sort_values().tail(7)\n",
    "\n",
    "# ax = ratio.plot.pie(figsize=(8, 8),autopct='%1.1f%%',title ='asd',fontsize = 18)\n",
    "# ax.set_ylabel('');\n",
    "# ax.set_title('The ratio of the total salary of each skill',fontsize =22)"
   ]
  },
  {
   "cell_type": "markdown",
   "id": "a566f919",
   "metadata": {},
   "source": [
    "### Question 4: Top 5 skills with the highest average salary  ?"
   ]
  },
  {
   "cell_type": "code",
   "execution_count": 71,
   "id": "fe0b6a42",
   "metadata": {},
   "outputs": [
    {
     "data": {
      "text/plain": [
       "nodejs    1915.740741\n",
       "python    1788.883929\n",
       "java      1784.728682\n",
       "golang    1737.500000\n",
       "ruby      1722.727273\n",
       "dtype: float64"
      ]
     },
     "execution_count": 71,
     "metadata": {},
     "output_type": "execute_result"
    }
   ],
   "source": [
    "lst =[]\n",
    "for i in range(len(df_job.columns)-2):\n",
    "    agg = df_job.groupby(df_job.columns[i])['average_salary'].agg(['mean']).reset_index()\n",
    "    lst.append(agg['mean'][1])\n",
    "type(lst)\n",
    "\n",
    "data=pd.Series(lst,index =['java', 'nodejs', 'reactjs', 'ruby', 'android', 'ios', 'php', 'python', 'c++', 'golang', 'angular'])\n",
    "data.sort_values(ascending=False)[:5]"
   ]
  },
  {
   "cell_type": "markdown",
   "id": "d6d1850b",
   "metadata": {},
   "source": [
    "### Question 5: Average salary of each level ?"
   ]
  },
  {
   "cell_type": "code",
   "execution_count": null,
   "id": "bfe5b8b3",
   "metadata": {},
   "outputs": [],
   "source": [
    "salary_fresher = df_job[df_job[\"level\"] == 0][\"average_salary\"].mean()\n",
    "salary_junior = df_job[df_job[\"level\"] == 1][\"average_salary\"].mean()\n",
    "salary_senior = df_job[df_job[\"level\"] == 2][\"average_salary\"].mean()"
   ]
  },
  {
   "cell_type": "code",
   "execution_count": null,
   "id": "9ca1b600",
   "metadata": {},
   "outputs": [
    {
     "data": {
      "image/png": "[encoded data removed]",
      "text/plain": [
       "<Figure size 1000x500 with 1 Axes>"
      ]
     },
     "metadata": {},
     "output_type": "display_data"
    }
   ],
   "source": [
    "data = {'fresher': salary_fresher, 'junior': salary_junior, 'senior': salary_senior}\n",
    "courses = list(data.keys())\n",
    "values = list(data.values())\n",
    "fig = plt.figure(figsize = (10, 5))\n",
    " \n",
    "# creating the bar plot\n",
    "plt.bar(courses, values, color ='maroon',\n",
    "        width = 0.4)\n",
    " \n",
    "plt.xlabel(\"Skills\")\n",
    "plt.ylabel(\"Offer (USD)\")\n",
    "plt.title(\"Average salary\")\n",
    "plt.show()"
   ]
  },
  {
   "cell_type": "markdown",
   "id": "f5039f63",
   "metadata": {},
   "source": [
    "**COMMENT:**"
   ]
  },
  {
   "cell_type": "markdown",
   "id": "44521c5b",
   "metadata": {},
   "source": [
    "**MEANING:**"
   ]
  },
  {
   "cell_type": "markdown",
   "id": "59c02a23",
   "metadata": {},
   "source": [
    "### Question 6: For each skill, how will the levels be distributed?"
   ]
  },
  {
   "cell_type": "code",
   "execution_count": null,
   "id": "3d1ccc22",
   "metadata": {},
   "outputs": [
    {
     "data": {
      "image/png": "[encoded data removed]",
      "text/plain": [
       "<Figure size 800x800 with 1 Axes>"
      ]
     },
     "metadata": {},
     "output_type": "display_data"
    }
   ],
   "source": [
    "ax= df_job.groupby('level')[\"java\"].count().plot.pie(figsize=(8, 8),autopct='%1.1f%%',title ='asd',fontsize = 18)\n",
    "ax.set_ylabel('');\n",
    "ax.set_title('java ',fontsize =22);"
   ]
  },
  {
   "cell_type": "markdown",
   "id": "6830025d",
   "metadata": {},
   "source": [
    "### Question 7: What is the average salary of each skill for \"fresher\" level?"
   ]
  },
  {
   "cell_type": "code",
   "execution_count": null,
   "id": "c87a7519",
   "metadata": {},
   "outputs": [],
   "source": [
    "def job_description_by_level(level):\n",
    "    return df_job[ df_job[\"level\"] == level ]"
   ]
  },
  {
   "cell_type": "code",
   "execution_count": 73,
   "id": "66b8938c",
   "metadata": {},
   "outputs": [],
   "source": [
    "def average_salary_each_skill_by_level(level):\n",
    "    job_by_level = job_description_by_level(level)\n",
    "    \n",
    "    java_salary = job_by_level[job_by_level[\"java\"] == 1][\"average_salary\"].mean()\n",
    "    node_salary = job_by_level[job_by_level[\"nodejs\"] == 1][\"average_salary\"].mean()\n",
    "    react_salary = job_by_level[job_by_level[\"reactjs\"] == 1][\"average_salary\"].mean()\n",
    "    ruby_salary = job_by_level[job_by_level[\"ruby\"] == 1][\"average_salary\"].mean()\n",
    "    android_salary = job_by_level[job_by_level[\"android\"] == 1][\"average_salary\"].mean()\n",
    "    ios_salary = job_by_level[job_by_level[\"ios\"] == 1][\"average_salary\"].mean()\n",
    "    php_salary = job_by_level[job_by_level[\"php\"] == 1][\"average_salary\"].mean()\n",
    "    python_salary = job_by_level[job_by_level[\"python\"] == 1][\"average_salary\"].mean()\n",
    "    c_salary = job_by_level[job_by_level[\"c++\"] == 1][\"average_salary\"].mean()\n",
    "    golang_salary = job_by_level[job_by_level[\"golang\"] == 1][\"average_salary\"].mean()\n",
    "    angular_salary = job_by_level[job_by_level[\"angular\"] == 1][\"average_salary\"].mean()\n",
    "    \n",
    "    \n",
    "    data = {'java': java_salary, 'node': node_salary, 'react': react_salary,\n",
    "        'ruby': ruby_salary, 'android': android_salary, 'ios': ios_salary, 'php': php_salary, \"c++\": c_salary,\n",
    "       'python': python_salary, 'golang': golang_salary, 'angular': angular_salary }\n",
    "    \n",
    "    \n",
    "\n",
    "    courses = list(data.keys())\n",
    "    values = list(data.values())\n",
    "\n",
    "    fig = plt.figure(figsize = (10, 5))\n",
    "\n",
    "\n",
    "    # creating the bar plot\n",
    "    plt.bar(courses, values, color ='maroon',\n",
    "            width = 0.4)\n",
    "\n",
    "    plt.xlabel(\"Skills\")\n",
    "    plt.ylabel(\"Offer (USD)\")\n",
    "    plt.title(\"Average salary for fresher\")\n",
    "    plt.show()"
   ]
  },
  {
   "cell_type": "code",
   "execution_count": 75,
   "id": "290db07b",
   "metadata": {},
   "outputs": [
    {
     "data": {
      "image/png": "[encoded data removed]",
      "text/plain": [
       "<Figure size 1000x500 with 1 Axes>"
      ]
     },
     "metadata": {},
     "output_type": "display_data"
    }
   ],
   "source": [
    "average_salary_each_skill_by_level(1)"
   ]
  },
  {
   "cell_type": "markdown",
   "id": "10baacf8",
   "metadata": {},
   "source": [
    "## 3. Salary prediction "
   ]
  },
  {
   "cell_type": "markdown",
   "id": "da8aca27",
   "metadata": {},
   "source": [
    "### Select group X and Y"
   ]
  },
  {
   "cell_type": "code",
   "execution_count": null,
   "id": "bfb865ce",
   "metadata": {},
   "outputs": [],
   "source": [
    "X = df_job[['java', 'nodejs', 'reactjs', 'ruby', 'android', 'ios', 'php', 'python', 'c++', 'golang', 'angular', 'level']]\n",
    "Y = df_job[[\"average_salary\"]]"
   ]
  },
  {
   "cell_type": "markdown",
   "id": "bdde93a2",
   "metadata": {},
   "source": [
    "### Predict model function "
   ]
  },
  {
   "cell_type": "code",
   "execution_count": null,
   "id": "c2f80a69",
   "metadata": {},
   "outputs": [],
   "source": [
    "def predict_model(x, y):\n",
    "    \n",
    "    x_train, x_test, y_train, y_test = train_test_split(x, y, test_size = 0.3, random_state = 100)\n",
    "\n",
    "    mlr = LinearRegression()  \n",
    "    mlr.fit(x_train, y_train)\n",
    "\n",
    "    print(\"Intercept: \", mlr.intercept_)\n",
    "    print(\"Coefficients:\", mlr.coef_)\n"
   ]
  },
  {
   "cell_type": "markdown",
   "id": "9791c28e",
   "metadata": {},
   "source": [
    "### Calculate the intercept and coefficients of model "
   ]
  },
  {
   "cell_type": "code",
   "execution_count": null,
   "id": "d4b99431",
   "metadata": {},
   "outputs": [
    {
     "name": "stdout",
     "output_type": "stream",
     "text": [
      "Intercept:  [1263.4428963]\n",
      "Coefficients: [[ 175.6529022   212.59384509   45.91362516  377.93722738  -53.69165589\n",
      "  -235.89592863 -291.13713511  148.7117768    25.64951729  255.85638916\n",
      "   141.64186564  220.96288491]]\n"
     ]
    }
   ],
   "source": [
    "predict =  predict_model(X, Y)"
   ]
  },
  {
   "cell_type": "code",
   "execution_count": null,
   "id": "ea9217aa",
   "metadata": {},
   "outputs": [],
   "source": [
    "def predict_specific_salary_base(java, node, react, ruby, android, ios, php, python, c, golang, angular, level):\n",
    "    return 1263.4428963 \n",
    "    + (175.6529022)*java \n",
    "    + (212.59384509)*node\n",
    "    + (45.91362516)*react \n",
    "    + (377.93722738)*ruby \n",
    "    + (-53.69165589)*android \n",
    "    + (-235.89592863)*ios \n",
    "    + (-291.13713511)*php\n",
    "    + (148.7117768)*python \n",
    "    + (25.64951729)*c\n",
    "    + (255.85638916)*golang \n",
    "    + (141.64186564)*angular\n",
    "    + (220.96288491)*level"
   ]
  },
  {
   "cell_type": "markdown",
   "id": "32e28333",
   "metadata": {},
   "source": [
    "### Prediction test in practice "
   ]
  },
  {
   "cell_type": "code",
   "execution_count": null,
   "id": "1d590ffb",
   "metadata": {},
   "outputs": [
    {
     "data": {
      "text/plain": [
       "1263.4428963"
      ]
     },
     "execution_count": 35,
     "metadata": {},
     "output_type": "execute_result"
    }
   ],
   "source": [
    "# Student has this skills (java, php, react) level fresher\n",
    "predict_specific_salary_base(1, 0, 1, 0, 0, 0, 1, 0, 0, 0, 0, 0)"
   ]
  }
 ],
 "metadata": {
  "kernelspec": {
   "display_name": "Python 3 (ipykernel)",
   "language": "python",
   "name": "python3"
  },
  "language_info": {
   "codemirror_mode": {
    "name": "ipython",
    "version": 3
   },
   "file_extension": ".py",
   "mimetype": "text/x-python",
   "name": "python",
   "nbconvert_exporter": "python",
   "pygments_lexer": "ipython3",
   "version": "3.10.8"
  },
  "vscode": {
   "interpreter": {
    "hash": "542e81e02dde70d26ba138c6b0790cdf7441bcdeb5d8c9a62834a0e83662c21f"
   }
  }
 },
 "nbformat": 4,
 "nbformat_minor": 5
}
